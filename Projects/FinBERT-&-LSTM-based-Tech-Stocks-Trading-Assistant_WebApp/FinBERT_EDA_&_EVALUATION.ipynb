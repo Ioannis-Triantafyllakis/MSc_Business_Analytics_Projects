{
 "cells": [
  {
   "cell_type": "markdown",
   "metadata": {},
   "source": [
    "<h1 align=\"center\"> FinBERT Training - Evaluation and EDA</h1>\n",
    "\n",
    "\n",
    "---\n",
    "> **Bravo Team** <br />\n",
    "> Department of Management Science and Technology <br />\n",
    "> Athens University of Economics and Business <br /> \n",
    "  \n",
    "\n",
    "In this notebook we use the FinBERT model from hugging face (link can be found [here](https://huggingface.co/ProsusAI/finbert)) and we train it again to create our final sentiment analysis model for stock news. Here we will present in detail the dataset used, the training process as well as the evaluation of the model in both training and validation dataset. \n",
    "\n",
    "\n",
    "## About FinBERT\n",
    "\n",
    "FinBERT is a pre-trained natural language processing (NLP) model and is used to analyze sentiment of financial text. Analyzing the sentiment of stock news can be a game-changer for trading as it provides the latest insights about a company someone wants to invest in.  It is built by further training the BERT language model in the finance domain, using a large financial corpus and fine-tuning it for financial sentiment classification. \n",
    "\n",
    "In our case, we are using the FinBert model to classify the last 17 news' headlines from [marketwatch](https://www.marketwatch.com/) to 3 classes Positive, Negative and Neutral. MarketWatch is a website that provides financial information, business news, analysis, and stock market data. The stock news it hosts are from multiple sources so marketwatch is a great fit for our application.\n",
    "\n",
    "**Note:** In this notebook, only the training and evaluation of the model is presented and not the deployment. For the deployment please read the README.txt to see how you can access the streamlit dashboard and make use of the true power of our application."
   ]
  },
  {
   "cell_type": "markdown",
   "metadata": {},
   "source": [
    "# Libraries' versions and Hardware Specifications"
   ]
  },
  {
   "cell_type": "code",
   "execution_count": 1,
   "metadata": {},
   "outputs": [
    {
     "name": "stdout",
     "output_type": "stream",
     "text": [
      "Last updated: 2022-08-26T18:23:13.348925+03:00\n",
      "\n",
      "Python implementation: CPython\n",
      "Python version       : 3.8.8\n",
      "IPython version      : 8.4.0\n",
      "\n",
      "Compiler    : MSC v.1916 64 bit (AMD64)\n",
      "OS          : Windows\n",
      "Release     : 10\n",
      "Machine     : AMD64\n",
      "Processor   : Intel64 Family 6 Model 158 Stepping 10, GenuineIntel\n",
      "CPU cores   : 12\n",
      "Architecture: 64bit\n",
      "\n"
     ]
    }
   ],
   "source": [
    "# useful for collaboration reasons\n",
    "%load_ext watermark \n",
    "%watermark "
   ]
  },
  {
   "cell_type": "code",
   "execution_count": 2,
   "metadata": {},
   "outputs": [
    {
     "name": "stdout",
     "output_type": "stream",
     "text": [
      "env: TOKENIZERS_PARALLELISM=false\n",
      "env: WANDB_DISABLED=true\n"
     ]
    }
   ],
   "source": [
    "%env TOKENIZERS_PARALLELISM=false\n",
    "%env WANDB_DISABLED=true\n",
    "import numpy as np\n",
    "import pandas as pd\n",
    "\n",
    "from sklearn.preprocessing import LabelEncoder, label_binarize\n",
    "from sklearn.model_selection import train_test_split\n",
    "\n",
    "from sklearn.metrics import (\n",
    "    accuracy_score,\n",
    "    confusion_matrix,\n",
    "    roc_curve, \n",
    "    auc,\n",
    "    classification_report\n",
    ")\n",
    "\n",
    "from transformers import (\n",
    "    AutoTokenizer, \n",
    "    AutoModel, \n",
    "    AdamW, \n",
    "    AutoConfig, \n",
    "    DataCollatorWithPadding,\n",
    "    TrainingArguments,\n",
    "    Trainer,\n",
    "    AutoModelForSequenceClassification,\n",
    "    pipeline\n",
    ")\n",
    "\n",
    "from datasets import Dataset, load_metric\n",
    "from typing import List, Tuple\n",
    "from scipy import interp\n",
    "from itertools import cycle\n",
    "\n",
    "import shap\n",
    "import torch\n",
    "import torch.nn as nn\n",
    "from tqdm.auto import tqdm\n",
    "from torch.utils.data import DataLoader\n",
    "\n",
    "import matplotlib.pyplot as plt\n",
    "import seaborn as sns"
   ]
  },
  {
   "cell_type": "code",
   "execution_count": 3,
   "metadata": {},
   "outputs": [
    {
     "name": "stdout",
     "output_type": "stream",
     "text": [
      "shap      : 0.39.0\n",
      "torch     : 1.11.0\n",
      "pandas    : 1.4.2\n",
      "seaborn   : 0.11.2\n",
      "numpy     : 1.21.5\n",
      "sys       : 3.8.8 (default, Apr 13 2021, 15:08:03) [MSC v.1916 64 bit (AMD64)]\n",
      "matplotlib: 3.5.1\n",
      "\n"
     ]
    }
   ],
   "source": [
    "%watermark --iversions"
   ]
  },
  {
   "cell_type": "markdown",
   "metadata": {},
   "source": [
    "## Model loading \n",
    "\n",
    "After importing all the necessary libraries, we are ready to import the pretrained model from hugging face and the dataset that we will use for further training. "
   ]
  },
  {
   "cell_type": "code",
   "execution_count": 4,
   "metadata": {},
   "outputs": [],
   "source": [
    "class args:\n",
    "    model = 'ProsusAI/finbert' #setting the name of the model as is in huggingface"
   ]
  },
  {
   "cell_type": "markdown",
   "metadata": {},
   "source": [
    "The dataset that we used for the training is the Financial PhraseBank from [Malo et al. (2014)](https://www.researchgate.net/publication/251231107_Good_Debt_or_Bad_Debt_Detecting_Semantic_Orientations_in_Economic_Texts). This dataset consists of 4846 financial phrases labeled with the desired classes (positive, negative, neutral). Below, we can see some details about the dataset."
   ]
  },
  {
   "cell_type": "code",
   "execution_count": 5,
   "metadata": {},
   "outputs": [],
   "source": [
    "df = pd.read_csv('all-data.csv', \n",
    "                 names = ['labels','messages'],\n",
    "                 encoding='ISO-8859-1')"
   ]
  },
  {
   "cell_type": "code",
   "execution_count": 6,
   "metadata": {},
   "outputs": [
    {
     "name": "stdout",
     "output_type": "stream",
     "text": [
      "<class 'pandas.core.frame.DataFrame'>\n",
      "RangeIndex: 4846 entries, 0 to 4845\n",
      "Data columns (total 2 columns):\n",
      " #   Column    Non-Null Count  Dtype \n",
      "---  ------    --------------  ----- \n",
      " 0   labels    4846 non-null   object\n",
      " 1   messages  4846 non-null   object\n",
      "dtypes: object(2)\n",
      "memory usage: 75.8+ KB\n"
     ]
    }
   ],
   "source": [
    "df.info()"
   ]
  },
  {
   "cell_type": "code",
   "execution_count": 7,
   "metadata": {},
   "outputs": [
    {
     "data": {
      "text/html": [
       "<div>\n",
       "<style scoped>\n",
       "    .dataframe tbody tr th:only-of-type {\n",
       "        vertical-align: middle;\n",
       "    }\n",
       "\n",
       "    .dataframe tbody tr th {\n",
       "        vertical-align: top;\n",
       "    }\n",
       "\n",
       "    .dataframe thead th {\n",
       "        text-align: right;\n",
       "    }\n",
       "</style>\n",
       "<table border=\"1\" class=\"dataframe\">\n",
       "  <thead>\n",
       "    <tr style=\"text-align: right;\">\n",
       "      <th></th>\n",
       "      <th>messages</th>\n",
       "      <th>labels</th>\n",
       "    </tr>\n",
       "  </thead>\n",
       "  <tbody>\n",
       "    <tr>\n",
       "      <th>0</th>\n",
       "      <td>According to Gran , the company has no plans t...</td>\n",
       "      <td>neutral</td>\n",
       "    </tr>\n",
       "    <tr>\n",
       "      <th>1</th>\n",
       "      <td>Technopolis plans to develop in stages an area...</td>\n",
       "      <td>neutral</td>\n",
       "    </tr>\n",
       "    <tr>\n",
       "      <th>2</th>\n",
       "      <td>The international electronic industry company ...</td>\n",
       "      <td>negative</td>\n",
       "    </tr>\n",
       "    <tr>\n",
       "      <th>3</th>\n",
       "      <td>With the new production plant the company woul...</td>\n",
       "      <td>positive</td>\n",
       "    </tr>\n",
       "    <tr>\n",
       "      <th>4</th>\n",
       "      <td>According to the company 's updated strategy f...</td>\n",
       "      <td>positive</td>\n",
       "    </tr>\n",
       "  </tbody>\n",
       "</table>\n",
       "</div>"
      ],
      "text/plain": [
       "                                            messages    labels\n",
       "0  According to Gran , the company has no plans t...   neutral\n",
       "1  Technopolis plans to develop in stages an area...   neutral\n",
       "2  The international electronic industry company ...  negative\n",
       "3  With the new production plant the company woul...  positive\n",
       "4  According to the company 's updated strategy f...  positive"
      ]
     },
     "execution_count": 7,
     "metadata": {},
     "output_type": "execute_result"
    }
   ],
   "source": [
    "df = df[['messages', 'labels']]\n",
    "df.head()"
   ]
  },
  {
   "cell_type": "markdown",
   "metadata": {},
   "source": [
    "As we notice, there are 604 positive phrases, 2879 negative phrases and 1363 neutral."
   ]
  },
  {
   "cell_type": "code",
   "execution_count": 8,
   "metadata": {},
   "outputs": [
    {
     "data": {
      "text/plain": [
       "1    2879\n",
       "2    1363\n",
       "0     604\n",
       "Name: labels, dtype: int64"
      ]
     },
     "execution_count": 8,
     "metadata": {},
     "output_type": "execute_result"
    }
   ],
   "source": [
    "labeler = LabelEncoder() # mappings are 1: negative, 2:neutral, 0:positive\n",
    "df['labels'] = labeler.fit_transform(df['labels'])\n",
    "df['labels'].value_counts()"
   ]
  },
  {
   "cell_type": "code",
   "execution_count": 9,
   "metadata": {},
   "outputs": [
    {
     "data": {
      "text/plain": [
       "array(['negative', 'neutral', 'positive'], dtype=object)"
      ]
     },
     "execution_count": 9,
     "metadata": {},
     "output_type": "execute_result"
    }
   ],
   "source": [
    "labeler.classes_ "
   ]
  },
  {
   "cell_type": "markdown",
   "metadata": {},
   "source": [
    "At this point we are ready to split our dataset into training, test and validation. We choose to use stratification for the splitting to force the distribution of the target variable (classes) among the different splits to be the same. \n",
    "\n",
    "\n",
    "# Splitting the data"
   ]
  },
  {
   "cell_type": "code",
   "execution_count": 10,
   "metadata": {},
   "outputs": [],
   "source": [
    "X, y = df['messages'].values, df['labels'].values\n",
    "\n",
    "# train, test = 90%, 10%\n",
    "xtrain, xtest, ytrain, ytest = train_test_split(X, y, test_size=0.1, stratify=y)\n",
    "\n",
    "# train : valid = 0.8 : 0.2\n",
    "xtrain, xvalid, ytrain, yvalid = train_test_split(xtrain, ytrain, test_size=0.2, stratify=ytrain)"
   ]
  },
  {
   "cell_type": "markdown",
   "metadata": {},
   "source": [
    "The above cell will create the following: </br>\n",
    "**train**: 72% of the initial dataset </br>\n",
    "**valid**: 18% of the initial dataset </br>\n",
    "**test**: 10% of the initial dataset "
   ]
  },
  {
   "cell_type": "code",
   "execution_count": 11,
   "metadata": {},
   "outputs": [
    {
     "data": {
      "text/plain": [
       "(4846,)"
      ]
     },
     "execution_count": 11,
     "metadata": {},
     "output_type": "execute_result"
    }
   ],
   "source": [
    "X.shape # total number of observations"
   ]
  },
  {
   "cell_type": "code",
   "execution_count": 12,
   "metadata": {},
   "outputs": [
    {
     "data": {
      "text/plain": [
       "(4846,)"
      ]
     },
     "execution_count": 12,
     "metadata": {},
     "output_type": "execute_result"
    }
   ],
   "source": [
    "y.shape"
   ]
  },
  {
   "cell_type": "code",
   "execution_count": 13,
   "metadata": {},
   "outputs": [
    {
     "data": {
      "text/plain": [
       "{0, 1, 2}"
      ]
     },
     "execution_count": 13,
     "metadata": {},
     "output_type": "execute_result"
    }
   ],
   "source": [
    "set(y) #classes, we can see that there are indeed 3 classes and that the mapping is complete"
   ]
  },
  {
   "cell_type": "code",
   "execution_count": 14,
   "metadata": {},
   "outputs": [
    {
     "data": {
      "text/plain": [
       "(3488,)"
      ]
     },
     "execution_count": 14,
     "metadata": {},
     "output_type": "execute_result"
    }
   ],
   "source": [
    "xtrain.shape # number of observations in training dataset ytrain.shape is identical"
   ]
  },
  {
   "cell_type": "code",
   "execution_count": 15,
   "metadata": {},
   "outputs": [
    {
     "data": {
      "text/plain": [
       "(485,)"
      ]
     },
     "execution_count": 15,
     "metadata": {},
     "output_type": "execute_result"
    }
   ],
   "source": [
    "xtest.shape # number of observations in test dataset"
   ]
  },
  {
   "cell_type": "code",
   "execution_count": 16,
   "metadata": {},
   "outputs": [
    {
     "data": {
      "text/plain": [
       "(873,)"
      ]
     },
     "execution_count": 16,
     "metadata": {},
     "output_type": "execute_result"
    }
   ],
   "source": [
    "xvalid.shape # number of observations in validation dataset"
   ]
  },
  {
   "cell_type": "code",
   "execution_count": 17,
   "metadata": {},
   "outputs": [],
   "source": [
    "# Here we create Datasets by using the now split data\n",
    "train_dataset_raw = Dataset.from_dict({'text':xtrain, 'labels':ytrain})\n",
    "valid_dataset_raw = Dataset.from_dict({'text':xvalid, 'labels':yvalid})"
   ]
  },
  {
   "cell_type": "code",
   "execution_count": 18,
   "metadata": {},
   "outputs": [],
   "source": [
    "# Here, we load the tokenizer of the ProsusAI finbert model.\n",
    "tokenizer = AutoTokenizer.from_pretrained(args.model)\n",
    "\n",
    "def tokenize_fn(examples):\n",
    "    return tokenizer(examples['text'], truncation=True)"
   ]
  },
  {
   "cell_type": "markdown",
   "metadata": {},
   "source": [
    "In the following cell we use the above function to tokenize the datasets."
   ]
  },
  {
   "cell_type": "code",
   "execution_count": 19,
   "metadata": {},
   "outputs": [
    {
     "data": {
      "application/vnd.jupyter.widget-view+json": {
       "model_id": "64c00739bd6c49fa8d430b4dabb68b98",
       "version_major": 2,
       "version_minor": 0
      },
      "text/plain": [
       "  0%|          | 0/4 [00:00<?, ?ba/s]"
      ]
     },
     "metadata": {},
     "output_type": "display_data"
    },
    {
     "data": {
      "application/vnd.jupyter.widget-view+json": {
       "model_id": "ba79b2599bb34f3aa7bd9353f2449466",
       "version_major": 2,
       "version_minor": 0
      },
      "text/plain": [
       "  0%|          | 0/1 [00:00<?, ?ba/s]"
      ]
     },
     "metadata": {},
     "output_type": "display_data"
    }
   ],
   "source": [
    "train_dataset = train_dataset_raw.map(tokenize_fn, batched=True)\n",
    "valid_dataset = valid_dataset_raw.map(tokenize_fn, batched=True)\n",
    "data_collator = DataCollatorWithPadding(tokenizer)"
   ]
  },
  {
   "cell_type": "markdown",
   "metadata": {},
   "source": [
    "In the next cell we load the ProsusAI finbert model"
   ]
  },
  {
   "cell_type": "code",
   "execution_count": 20,
   "metadata": {},
   "outputs": [],
   "source": [
    "model = AutoModelForSequenceClassification.from_pretrained(args.model)"
   ]
  },
  {
   "cell_type": "markdown",
   "metadata": {},
   "source": [
    "The following function will help us find the highest logit probability of each record, and find the accuracy."
   ]
  },
  {
   "cell_type": "code",
   "execution_count": 21,
   "metadata": {},
   "outputs": [],
   "source": [
    "def compute_metrics(eval_preds):\n",
    "    logits, labels = eval_preds\n",
    "    preds = np.argmax(logits, axis=-1)\n",
    "    return {'accuracy': accuracy_score(labels, preds)}"
   ]
  },
  {
   "cell_type": "markdown",
   "metadata": {},
   "source": [
    "In the following cell we add the training arguments of the finbert model"
   ]
  },
  {
   "cell_type": "markdown",
   "metadata": {},
   "source": [
    "# Training the model"
   ]
  },
  {
   "cell_type": "code",
   "execution_count": 22,
   "metadata": {},
   "outputs": [
    {
     "name": "stderr",
     "output_type": "stream",
     "text": [
      "Using the `WAND_DISABLED` environment variable is deprecated and will be removed in v5. Use the --report_to flag to control the integrations used for logging result (for instance --report_to none).\n"
     ]
    }
   ],
   "source": [
    "train_args = TrainingArguments(\n",
    "    './Finbert Trained/',\n",
    "    per_device_train_batch_size=16,\n",
    "    per_device_eval_batch_size=2*16,\n",
    "    num_train_epochs=5, \n",
    "    learning_rate=2e-5,\n",
    "    weight_decay=0.01,\n",
    "    warmup_ratio=0.1,    \n",
    "    do_eval=True,\n",
    "    do_train=True,\n",
    "    do_predict=True,\n",
    "    evaluation_strategy='epoch',\n",
    "    save_strategy=\"no\",\n",
    ")"
   ]
  },
  {
   "cell_type": "code",
   "execution_count": 23,
   "metadata": {},
   "outputs": [],
   "source": [
    "trainer = Trainer(\n",
    "    model,\n",
    "    train_args,\n",
    "    train_dataset=train_dataset,\n",
    "    eval_dataset=valid_dataset,\n",
    "    data_collator=data_collator,\n",
    "    tokenizer=tokenizer,\n",
    "    compute_metrics=compute_metrics,\n",
    ")"
   ]
  },
  {
   "cell_type": "code",
   "execution_count": 24,
   "metadata": {},
   "outputs": [
    {
     "name": "stderr",
     "output_type": "stream",
     "text": [
      "The following columns in the training set don't have a corresponding argument in `BertForSequenceClassification.forward` and have been ignored: text. If text are not expected by `BertForSequenceClassification.forward`,  you can safely ignore this message.\n",
      "This implementation of AdamW is deprecated and will be removed in a future version. Use the PyTorch implementation torch.optim.AdamW instead, or set `no_deprecation_warning=True` to disable this warning\n",
      "***** Running training *****\n",
      "  Num examples = 3488\n",
      "  Num Epochs = 5\n",
      "  Instantaneous batch size per device = 16\n",
      "  Total train batch size (w. parallel, distributed & accumulation) = 16\n",
      "  Gradient Accumulation steps = 1\n",
      "  Total optimization steps = 1090\n"
     ]
    },
    {
     "data": {
      "application/vnd.jupyter.widget-view+json": {
       "model_id": "b3d6274e22f246c992663824160cb6a7",
       "version_major": 2,
       "version_minor": 0
      },
      "text/plain": [
       "  0%|          | 0/1090 [00:00<?, ?it/s]"
      ]
     },
     "metadata": {},
     "output_type": "display_data"
    },
    {
     "name": "stderr",
     "output_type": "stream",
     "text": [
      "The following columns in the evaluation set don't have a corresponding argument in `BertForSequenceClassification.forward` and have been ignored: text. If text are not expected by `BertForSequenceClassification.forward`,  you can safely ignore this message.\n",
      "***** Running Evaluation *****\n",
      "  Num examples = 873\n",
      "  Batch size = 32\n"
     ]
    },
    {
     "data": {
      "application/vnd.jupyter.widget-view+json": {
       "model_id": "91cfc9258f89453e88e660ad94628f3b",
       "version_major": 2,
       "version_minor": 0
      },
      "text/plain": [
       "  0%|          | 0/28 [00:00<?, ?it/s]"
      ]
     },
     "metadata": {},
     "output_type": "display_data"
    },
    {
     "name": "stdout",
     "output_type": "stream",
     "text": [
      "{'eval_loss': 0.3559327721595764, 'eval_accuracy': 0.8671248568155785, 'eval_runtime': 85.1169, 'eval_samples_per_second': 10.256, 'eval_steps_per_second': 0.329, 'epoch': 1.0}\n"
     ]
    },
    {
     "name": "stderr",
     "output_type": "stream",
     "text": [
      "The following columns in the evaluation set don't have a corresponding argument in `BertForSequenceClassification.forward` and have been ignored: text. If text are not expected by `BertForSequenceClassification.forward`,  you can safely ignore this message.\n",
      "***** Running Evaluation *****\n",
      "  Num examples = 873\n",
      "  Batch size = 32\n"
     ]
    },
    {
     "data": {
      "application/vnd.jupyter.widget-view+json": {
       "model_id": "c8d584dfcdaf4b7fa270d0e5d4e43c72",
       "version_major": 2,
       "version_minor": 0
      },
      "text/plain": [
       "  0%|          | 0/28 [00:00<?, ?it/s]"
      ]
     },
     "metadata": {},
     "output_type": "display_data"
    },
    {
     "name": "stdout",
     "output_type": "stream",
     "text": [
      "{'eval_loss': 0.3492976129055023, 'eval_accuracy': 0.8751431844215349, 'eval_runtime': 112.6636, 'eval_samples_per_second': 7.749, 'eval_steps_per_second': 0.249, 'epoch': 2.0}\n",
      "{'loss': 0.5614, 'learning_rate': 1.2028542303771661e-05, 'epoch': 2.29}\n"
     ]
    },
    {
     "name": "stderr",
     "output_type": "stream",
     "text": [
      "The following columns in the evaluation set don't have a corresponding argument in `BertForSequenceClassification.forward` and have been ignored: text. If text are not expected by `BertForSequenceClassification.forward`,  you can safely ignore this message.\n",
      "***** Running Evaluation *****\n",
      "  Num examples = 873\n",
      "  Batch size = 32\n"
     ]
    },
    {
     "data": {
      "application/vnd.jupyter.widget-view+json": {
       "model_id": "ad679017a4234ea89100bf96026302f1",
       "version_major": 2,
       "version_minor": 0
      },
      "text/plain": [
       "  0%|          | 0/28 [00:00<?, ?it/s]"
      ]
     },
     "metadata": {},
     "output_type": "display_data"
    },
    {
     "name": "stdout",
     "output_type": "stream",
     "text": [
      "{'eval_loss': 0.4619213938713074, 'eval_accuracy': 0.8785796105383734, 'eval_runtime': 83.9452, 'eval_samples_per_second': 10.4, 'eval_steps_per_second': 0.334, 'epoch': 3.0}\n"
     ]
    },
    {
     "name": "stderr",
     "output_type": "stream",
     "text": [
      "The following columns in the evaluation set don't have a corresponding argument in `BertForSequenceClassification.forward` and have been ignored: text. If text are not expected by `BertForSequenceClassification.forward`,  you can safely ignore this message.\n",
      "***** Running Evaluation *****\n",
      "  Num examples = 873\n",
      "  Batch size = 32\n"
     ]
    },
    {
     "data": {
      "application/vnd.jupyter.widget-view+json": {
       "model_id": "f6c21e680e9b44d58a338b06d5b09570",
       "version_major": 2,
       "version_minor": 0
      },
      "text/plain": [
       "  0%|          | 0/28 [00:00<?, ?it/s]"
      ]
     },
     "metadata": {},
     "output_type": "display_data"
    },
    {
     "name": "stdout",
     "output_type": "stream",
     "text": [
      "{'eval_loss': 0.5268874168395996, 'eval_accuracy': 0.8808705612829324, 'eval_runtime': 57.0958, 'eval_samples_per_second': 15.29, 'eval_steps_per_second': 0.49, 'epoch': 4.0}\n",
      "{'loss': 0.0679, 'learning_rate': 1.8348623853211011e-06, 'epoch': 4.59}\n"
     ]
    },
    {
     "name": "stderr",
     "output_type": "stream",
     "text": [
      "The following columns in the evaluation set don't have a corresponding argument in `BertForSequenceClassification.forward` and have been ignored: text. If text are not expected by `BertForSequenceClassification.forward`,  you can safely ignore this message.\n",
      "***** Running Evaluation *****\n",
      "  Num examples = 873\n",
      "  Batch size = 32\n"
     ]
    },
    {
     "data": {
      "application/vnd.jupyter.widget-view+json": {
       "model_id": "98a121daf07449a99090aefdedb62e26",
       "version_major": 2,
       "version_minor": 0
      },
      "text/plain": [
       "  0%|          | 0/28 [00:00<?, ?it/s]"
      ]
     },
     "metadata": {},
     "output_type": "display_data"
    },
    {
     "name": "stderr",
     "output_type": "stream",
     "text": [
      "\n",
      "\n",
      "Training completed. Do not forget to share your model on huggingface.co/models =)\n",
      "\n",
      "\n"
     ]
    },
    {
     "name": "stdout",
     "output_type": "stream",
     "text": [
      "{'eval_loss': 0.5476785898208618, 'eval_accuracy': 0.8808705612829324, 'eval_runtime': 58.897, 'eval_samples_per_second': 14.822, 'eval_steps_per_second': 0.475, 'epoch': 5.0}\n",
      "{'train_runtime': 5771.9107, 'train_samples_per_second': 3.022, 'train_steps_per_second': 0.189, 'train_loss': 0.29137571426706577, 'epoch': 5.0}\n"
     ]
    },
    {
     "data": {
      "text/plain": [
       "TrainOutput(global_step=1090, training_loss=0.29137571426706577, metrics={'train_runtime': 5771.9107, 'train_samples_per_second': 3.022, 'train_steps_per_second': 0.189, 'train_loss': 0.29137571426706577, 'epoch': 5.0})"
      ]
     },
     "execution_count": 24,
     "metadata": {},
     "output_type": "execute_result"
    }
   ],
   "source": [
    "trainer.train()"
   ]
  },
  {
   "cell_type": "code",
   "execution_count": 25,
   "metadata": {},
   "outputs": [
    {
     "data": {
      "text/plain": [
       "PreTrainedTokenizerFast(name_or_path='ProsusAI/finbert', vocab_size=30522, model_max_len=512, is_fast=True, padding_side='right', truncation_side='right', special_tokens={'unk_token': '[UNK]', 'sep_token': '[SEP]', 'pad_token': '[PAD]', 'cls_token': '[CLS]', 'mask_token': '[MASK]'})"
      ]
     },
     "execution_count": 25,
     "metadata": {},
     "output_type": "execute_result"
    }
   ],
   "source": [
    "tokenizer"
   ]
  },
  {
   "cell_type": "code",
   "execution_count": 26,
   "metadata": {},
   "outputs": [
    {
     "data": {
      "text/plain": [
       "{0: 'positive', 1: 'negative', 2: 'neutral'}"
      ]
     },
     "execution_count": 26,
     "metadata": {},
     "output_type": "execute_result"
    }
   ],
   "source": [
    "#Model classes\n",
    "model.config.id2label"
   ]
  },
  {
   "cell_type": "code",
   "execution_count": 27,
   "metadata": {},
   "outputs": [
    {
     "data": {
      "text/plain": [
       "BertForSequenceClassification(\n",
       "  (bert): BertModel(\n",
       "    (embeddings): BertEmbeddings(\n",
       "      (word_embeddings): Embedding(30522, 768, padding_idx=0)\n",
       "      (position_embeddings): Embedding(512, 768)\n",
       "      (token_type_embeddings): Embedding(2, 768)\n",
       "      (LayerNorm): LayerNorm((768,), eps=1e-12, elementwise_affine=True)\n",
       "      (dropout): Dropout(p=0.1, inplace=False)\n",
       "    )\n",
       "    (encoder): BertEncoder(\n",
       "      (layer): ModuleList(\n",
       "        (0): BertLayer(\n",
       "          (attention): BertAttention(\n",
       "            (self): BertSelfAttention(\n",
       "              (query): Linear(in_features=768, out_features=768, bias=True)\n",
       "              (key): Linear(in_features=768, out_features=768, bias=True)\n",
       "              (value): Linear(in_features=768, out_features=768, bias=True)\n",
       "              (dropout): Dropout(p=0.1, inplace=False)\n",
       "            )\n",
       "            (output): BertSelfOutput(\n",
       "              (dense): Linear(in_features=768, out_features=768, bias=True)\n",
       "              (LayerNorm): LayerNorm((768,), eps=1e-12, elementwise_affine=True)\n",
       "              (dropout): Dropout(p=0.1, inplace=False)\n",
       "            )\n",
       "          )\n",
       "          (intermediate): BertIntermediate(\n",
       "            (dense): Linear(in_features=768, out_features=3072, bias=True)\n",
       "            (intermediate_act_fn): GELUActivation()\n",
       "          )\n",
       "          (output): BertOutput(\n",
       "            (dense): Linear(in_features=3072, out_features=768, bias=True)\n",
       "            (LayerNorm): LayerNorm((768,), eps=1e-12, elementwise_affine=True)\n",
       "            (dropout): Dropout(p=0.1, inplace=False)\n",
       "          )\n",
       "        )\n",
       "        (1): BertLayer(\n",
       "          (attention): BertAttention(\n",
       "            (self): BertSelfAttention(\n",
       "              (query): Linear(in_features=768, out_features=768, bias=True)\n",
       "              (key): Linear(in_features=768, out_features=768, bias=True)\n",
       "              (value): Linear(in_features=768, out_features=768, bias=True)\n",
       "              (dropout): Dropout(p=0.1, inplace=False)\n",
       "            )\n",
       "            (output): BertSelfOutput(\n",
       "              (dense): Linear(in_features=768, out_features=768, bias=True)\n",
       "              (LayerNorm): LayerNorm((768,), eps=1e-12, elementwise_affine=True)\n",
       "              (dropout): Dropout(p=0.1, inplace=False)\n",
       "            )\n",
       "          )\n",
       "          (intermediate): BertIntermediate(\n",
       "            (dense): Linear(in_features=768, out_features=3072, bias=True)\n",
       "            (intermediate_act_fn): GELUActivation()\n",
       "          )\n",
       "          (output): BertOutput(\n",
       "            (dense): Linear(in_features=3072, out_features=768, bias=True)\n",
       "            (LayerNorm): LayerNorm((768,), eps=1e-12, elementwise_affine=True)\n",
       "            (dropout): Dropout(p=0.1, inplace=False)\n",
       "          )\n",
       "        )\n",
       "        (2): BertLayer(\n",
       "          (attention): BertAttention(\n",
       "            (self): BertSelfAttention(\n",
       "              (query): Linear(in_features=768, out_features=768, bias=True)\n",
       "              (key): Linear(in_features=768, out_features=768, bias=True)\n",
       "              (value): Linear(in_features=768, out_features=768, bias=True)\n",
       "              (dropout): Dropout(p=0.1, inplace=False)\n",
       "            )\n",
       "            (output): BertSelfOutput(\n",
       "              (dense): Linear(in_features=768, out_features=768, bias=True)\n",
       "              (LayerNorm): LayerNorm((768,), eps=1e-12, elementwise_affine=True)\n",
       "              (dropout): Dropout(p=0.1, inplace=False)\n",
       "            )\n",
       "          )\n",
       "          (intermediate): BertIntermediate(\n",
       "            (dense): Linear(in_features=768, out_features=3072, bias=True)\n",
       "            (intermediate_act_fn): GELUActivation()\n",
       "          )\n",
       "          (output): BertOutput(\n",
       "            (dense): Linear(in_features=3072, out_features=768, bias=True)\n",
       "            (LayerNorm): LayerNorm((768,), eps=1e-12, elementwise_affine=True)\n",
       "            (dropout): Dropout(p=0.1, inplace=False)\n",
       "          )\n",
       "        )\n",
       "        (3): BertLayer(\n",
       "          (attention): BertAttention(\n",
       "            (self): BertSelfAttention(\n",
       "              (query): Linear(in_features=768, out_features=768, bias=True)\n",
       "              (key): Linear(in_features=768, out_features=768, bias=True)\n",
       "              (value): Linear(in_features=768, out_features=768, bias=True)\n",
       "              (dropout): Dropout(p=0.1, inplace=False)\n",
       "            )\n",
       "            (output): BertSelfOutput(\n",
       "              (dense): Linear(in_features=768, out_features=768, bias=True)\n",
       "              (LayerNorm): LayerNorm((768,), eps=1e-12, elementwise_affine=True)\n",
       "              (dropout): Dropout(p=0.1, inplace=False)\n",
       "            )\n",
       "          )\n",
       "          (intermediate): BertIntermediate(\n",
       "            (dense): Linear(in_features=768, out_features=3072, bias=True)\n",
       "            (intermediate_act_fn): GELUActivation()\n",
       "          )\n",
       "          (output): BertOutput(\n",
       "            (dense): Linear(in_features=3072, out_features=768, bias=True)\n",
       "            (LayerNorm): LayerNorm((768,), eps=1e-12, elementwise_affine=True)\n",
       "            (dropout): Dropout(p=0.1, inplace=False)\n",
       "          )\n",
       "        )\n",
       "        (4): BertLayer(\n",
       "          (attention): BertAttention(\n",
       "            (self): BertSelfAttention(\n",
       "              (query): Linear(in_features=768, out_features=768, bias=True)\n",
       "              (key): Linear(in_features=768, out_features=768, bias=True)\n",
       "              (value): Linear(in_features=768, out_features=768, bias=True)\n",
       "              (dropout): Dropout(p=0.1, inplace=False)\n",
       "            )\n",
       "            (output): BertSelfOutput(\n",
       "              (dense): Linear(in_features=768, out_features=768, bias=True)\n",
       "              (LayerNorm): LayerNorm((768,), eps=1e-12, elementwise_affine=True)\n",
       "              (dropout): Dropout(p=0.1, inplace=False)\n",
       "            )\n",
       "          )\n",
       "          (intermediate): BertIntermediate(\n",
       "            (dense): Linear(in_features=768, out_features=3072, bias=True)\n",
       "            (intermediate_act_fn): GELUActivation()\n",
       "          )\n",
       "          (output): BertOutput(\n",
       "            (dense): Linear(in_features=3072, out_features=768, bias=True)\n",
       "            (LayerNorm): LayerNorm((768,), eps=1e-12, elementwise_affine=True)\n",
       "            (dropout): Dropout(p=0.1, inplace=False)\n",
       "          )\n",
       "        )\n",
       "        (5): BertLayer(\n",
       "          (attention): BertAttention(\n",
       "            (self): BertSelfAttention(\n",
       "              (query): Linear(in_features=768, out_features=768, bias=True)\n",
       "              (key): Linear(in_features=768, out_features=768, bias=True)\n",
       "              (value): Linear(in_features=768, out_features=768, bias=True)\n",
       "              (dropout): Dropout(p=0.1, inplace=False)\n",
       "            )\n",
       "            (output): BertSelfOutput(\n",
       "              (dense): Linear(in_features=768, out_features=768, bias=True)\n",
       "              (LayerNorm): LayerNorm((768,), eps=1e-12, elementwise_affine=True)\n",
       "              (dropout): Dropout(p=0.1, inplace=False)\n",
       "            )\n",
       "          )\n",
       "          (intermediate): BertIntermediate(\n",
       "            (dense): Linear(in_features=768, out_features=3072, bias=True)\n",
       "            (intermediate_act_fn): GELUActivation()\n",
       "          )\n",
       "          (output): BertOutput(\n",
       "            (dense): Linear(in_features=3072, out_features=768, bias=True)\n",
       "            (LayerNorm): LayerNorm((768,), eps=1e-12, elementwise_affine=True)\n",
       "            (dropout): Dropout(p=0.1, inplace=False)\n",
       "          )\n",
       "        )\n",
       "        (6): BertLayer(\n",
       "          (attention): BertAttention(\n",
       "            (self): BertSelfAttention(\n",
       "              (query): Linear(in_features=768, out_features=768, bias=True)\n",
       "              (key): Linear(in_features=768, out_features=768, bias=True)\n",
       "              (value): Linear(in_features=768, out_features=768, bias=True)\n",
       "              (dropout): Dropout(p=0.1, inplace=False)\n",
       "            )\n",
       "            (output): BertSelfOutput(\n",
       "              (dense): Linear(in_features=768, out_features=768, bias=True)\n",
       "              (LayerNorm): LayerNorm((768,), eps=1e-12, elementwise_affine=True)\n",
       "              (dropout): Dropout(p=0.1, inplace=False)\n",
       "            )\n",
       "          )\n",
       "          (intermediate): BertIntermediate(\n",
       "            (dense): Linear(in_features=768, out_features=3072, bias=True)\n",
       "            (intermediate_act_fn): GELUActivation()\n",
       "          )\n",
       "          (output): BertOutput(\n",
       "            (dense): Linear(in_features=3072, out_features=768, bias=True)\n",
       "            (LayerNorm): LayerNorm((768,), eps=1e-12, elementwise_affine=True)\n",
       "            (dropout): Dropout(p=0.1, inplace=False)\n",
       "          )\n",
       "        )\n",
       "        (7): BertLayer(\n",
       "          (attention): BertAttention(\n",
       "            (self): BertSelfAttention(\n",
       "              (query): Linear(in_features=768, out_features=768, bias=True)\n",
       "              (key): Linear(in_features=768, out_features=768, bias=True)\n",
       "              (value): Linear(in_features=768, out_features=768, bias=True)\n",
       "              (dropout): Dropout(p=0.1, inplace=False)\n",
       "            )\n",
       "            (output): BertSelfOutput(\n",
       "              (dense): Linear(in_features=768, out_features=768, bias=True)\n",
       "              (LayerNorm): LayerNorm((768,), eps=1e-12, elementwise_affine=True)\n",
       "              (dropout): Dropout(p=0.1, inplace=False)\n",
       "            )\n",
       "          )\n",
       "          (intermediate): BertIntermediate(\n",
       "            (dense): Linear(in_features=768, out_features=3072, bias=True)\n",
       "            (intermediate_act_fn): GELUActivation()\n",
       "          )\n",
       "          (output): BertOutput(\n",
       "            (dense): Linear(in_features=3072, out_features=768, bias=True)\n",
       "            (LayerNorm): LayerNorm((768,), eps=1e-12, elementwise_affine=True)\n",
       "            (dropout): Dropout(p=0.1, inplace=False)\n",
       "          )\n",
       "        )\n",
       "        (8): BertLayer(\n",
       "          (attention): BertAttention(\n",
       "            (self): BertSelfAttention(\n",
       "              (query): Linear(in_features=768, out_features=768, bias=True)\n",
       "              (key): Linear(in_features=768, out_features=768, bias=True)\n",
       "              (value): Linear(in_features=768, out_features=768, bias=True)\n",
       "              (dropout): Dropout(p=0.1, inplace=False)\n",
       "            )\n",
       "            (output): BertSelfOutput(\n",
       "              (dense): Linear(in_features=768, out_features=768, bias=True)\n",
       "              (LayerNorm): LayerNorm((768,), eps=1e-12, elementwise_affine=True)\n",
       "              (dropout): Dropout(p=0.1, inplace=False)\n",
       "            )\n",
       "          )\n",
       "          (intermediate): BertIntermediate(\n",
       "            (dense): Linear(in_features=768, out_features=3072, bias=True)\n",
       "            (intermediate_act_fn): GELUActivation()\n",
       "          )\n",
       "          (output): BertOutput(\n",
       "            (dense): Linear(in_features=3072, out_features=768, bias=True)\n",
       "            (LayerNorm): LayerNorm((768,), eps=1e-12, elementwise_affine=True)\n",
       "            (dropout): Dropout(p=0.1, inplace=False)\n",
       "          )\n",
       "        )\n",
       "        (9): BertLayer(\n",
       "          (attention): BertAttention(\n",
       "            (self): BertSelfAttention(\n",
       "              (query): Linear(in_features=768, out_features=768, bias=True)\n",
       "              (key): Linear(in_features=768, out_features=768, bias=True)\n",
       "              (value): Linear(in_features=768, out_features=768, bias=True)\n",
       "              (dropout): Dropout(p=0.1, inplace=False)\n",
       "            )\n",
       "            (output): BertSelfOutput(\n",
       "              (dense): Linear(in_features=768, out_features=768, bias=True)\n",
       "              (LayerNorm): LayerNorm((768,), eps=1e-12, elementwise_affine=True)\n",
       "              (dropout): Dropout(p=0.1, inplace=False)\n",
       "            )\n",
       "          )\n",
       "          (intermediate): BertIntermediate(\n",
       "            (dense): Linear(in_features=768, out_features=3072, bias=True)\n",
       "            (intermediate_act_fn): GELUActivation()\n",
       "          )\n",
       "          (output): BertOutput(\n",
       "            (dense): Linear(in_features=3072, out_features=768, bias=True)\n",
       "            (LayerNorm): LayerNorm((768,), eps=1e-12, elementwise_affine=True)\n",
       "            (dropout): Dropout(p=0.1, inplace=False)\n",
       "          )\n",
       "        )\n",
       "        (10): BertLayer(\n",
       "          (attention): BertAttention(\n",
       "            (self): BertSelfAttention(\n",
       "              (query): Linear(in_features=768, out_features=768, bias=True)\n",
       "              (key): Linear(in_features=768, out_features=768, bias=True)\n",
       "              (value): Linear(in_features=768, out_features=768, bias=True)\n",
       "              (dropout): Dropout(p=0.1, inplace=False)\n",
       "            )\n",
       "            (output): BertSelfOutput(\n",
       "              (dense): Linear(in_features=768, out_features=768, bias=True)\n",
       "              (LayerNorm): LayerNorm((768,), eps=1e-12, elementwise_affine=True)\n",
       "              (dropout): Dropout(p=0.1, inplace=False)\n",
       "            )\n",
       "          )\n",
       "          (intermediate): BertIntermediate(\n",
       "            (dense): Linear(in_features=768, out_features=3072, bias=True)\n",
       "            (intermediate_act_fn): GELUActivation()\n",
       "          )\n",
       "          (output): BertOutput(\n",
       "            (dense): Linear(in_features=3072, out_features=768, bias=True)\n",
       "            (LayerNorm): LayerNorm((768,), eps=1e-12, elementwise_affine=True)\n",
       "            (dropout): Dropout(p=0.1, inplace=False)\n",
       "          )\n",
       "        )\n",
       "        (11): BertLayer(\n",
       "          (attention): BertAttention(\n",
       "            (self): BertSelfAttention(\n",
       "              (query): Linear(in_features=768, out_features=768, bias=True)\n",
       "              (key): Linear(in_features=768, out_features=768, bias=True)\n",
       "              (value): Linear(in_features=768, out_features=768, bias=True)\n",
       "              (dropout): Dropout(p=0.1, inplace=False)\n",
       "            )\n",
       "            (output): BertSelfOutput(\n",
       "              (dense): Linear(in_features=768, out_features=768, bias=True)\n",
       "              (LayerNorm): LayerNorm((768,), eps=1e-12, elementwise_affine=True)\n",
       "              (dropout): Dropout(p=0.1, inplace=False)\n",
       "            )\n",
       "          )\n",
       "          (intermediate): BertIntermediate(\n",
       "            (dense): Linear(in_features=768, out_features=3072, bias=True)\n",
       "            (intermediate_act_fn): GELUActivation()\n",
       "          )\n",
       "          (output): BertOutput(\n",
       "            (dense): Linear(in_features=3072, out_features=768, bias=True)\n",
       "            (LayerNorm): LayerNorm((768,), eps=1e-12, elementwise_affine=True)\n",
       "            (dropout): Dropout(p=0.1, inplace=False)\n",
       "          )\n",
       "        )\n",
       "      )\n",
       "    )\n",
       "    (pooler): BertPooler(\n",
       "      (dense): Linear(in_features=768, out_features=768, bias=True)\n",
       "      (activation): Tanh()\n",
       "    )\n",
       "  )\n",
       "  (dropout): Dropout(p=0.1, inplace=False)\n",
       "  (classifier): Linear(in_features=768, out_features=3, bias=True)\n",
       ")"
      ]
     },
     "execution_count": 27,
     "metadata": {},
     "output_type": "execute_result"
    }
   ],
   "source": [
    "model"
   ]
  },
  {
   "cell_type": "markdown",
   "metadata": {},
   "source": [
    "# Model Evaluation\n",
    "\n",
    "Now our model is trained and we can proceed to the evaluation. We will evaluate the model in both test and validation datasets.\n",
    "\n",
    "# Test Dataset"
   ]
  },
  {
   "cell_type": "code",
   "execution_count": 28,
   "metadata": {},
   "outputs": [],
   "source": [
    "pred_dataset_test_raw = Dataset.from_dict({'text': xtest})"
   ]
  },
  {
   "cell_type": "code",
   "execution_count": 29,
   "metadata": {},
   "outputs": [
    {
     "data": {
      "application/vnd.jupyter.widget-view+json": {
       "model_id": "ea07a4f07c794ac3932fee092463e628",
       "version_major": 2,
       "version_minor": 0
      },
      "text/plain": [
       "  0%|          | 0/485 [00:00<?, ?ex/s]"
      ]
     },
     "metadata": {},
     "output_type": "display_data"
    }
   ],
   "source": [
    "pred_dataset_test = pred_dataset_test_raw.map(tokenize_fn, batched=False) # mapping the test obeservations with our tokenizer"
   ]
  },
  {
   "cell_type": "code",
   "execution_count": 30,
   "metadata": {},
   "outputs": [
    {
     "name": "stderr",
     "output_type": "stream",
     "text": [
      "The following columns in the test set don't have a corresponding argument in `BertForSequenceClassification.forward` and have been ignored: text. If text are not expected by `BertForSequenceClassification.forward`,  you can safely ignore this message.\n",
      "***** Running Prediction *****\n",
      "  Num examples = 485\n",
      "  Batch size = 32\n"
     ]
    },
    {
     "data": {
      "application/vnd.jupyter.widget-view+json": {
       "model_id": "e5269fb27a5d49a09248b88d21b6d461",
       "version_major": 2,
       "version_minor": 0
      },
      "text/plain": [
       "  0%|          | 0/16 [00:00<?, ?it/s]"
      ]
     },
     "metadata": {},
     "output_type": "display_data"
    }
   ],
   "source": [
    "output_test = trainer.predict(\n",
    "    test_dataset=pred_dataset_test\n",
    ")\n",
    "test_preds = [np.argmax(x) for x in output_test.predictions] # keeping the max argument which refers to the classified class"
   ]
  },
  {
   "cell_type": "code",
   "execution_count": 31,
   "metadata": {},
   "outputs": [],
   "source": [
    "def predictor(list_of_headlines):\n",
    "    '''\n",
    "    This function takes as input a list of phrases (or headlines) and uses our model and tokenizer to return the scores\n",
    "    of each phrase in each class (positive, negative, neutral)\n",
    "    '''\n",
    "    clf = pipeline(\"text-classification\", model=model, tokenizer=tokenizer, return_all_scores = True) \n",
    "    return clf(list_of_headlines)\n",
    "\n",
    "# For evaluation in test dataset\n",
    "test = predictor(list(xtest))"
   ]
  },
  {
   "cell_type": "markdown",
   "metadata": {},
   "source": [
    "Below, we can see the probabilities of each phrase in each class."
   ]
  },
  {
   "cell_type": "code",
   "execution_count": 32,
   "metadata": {},
   "outputs": [
    {
     "data": {
      "text/html": [
       "<div>\n",
       "<style scoped>\n",
       "    .dataframe tbody tr th:only-of-type {\n",
       "        vertical-align: middle;\n",
       "    }\n",
       "\n",
       "    .dataframe tbody tr th {\n",
       "        vertical-align: top;\n",
       "    }\n",
       "\n",
       "    .dataframe thead th {\n",
       "        text-align: right;\n",
       "    }\n",
       "</style>\n",
       "<table border=\"1\" class=\"dataframe\">\n",
       "  <thead>\n",
       "    <tr style=\"text-align: right;\">\n",
       "      <th></th>\n",
       "      <th>Headline</th>\n",
       "      <th>Positive</th>\n",
       "      <th>Negative</th>\n",
       "      <th>Neutral</th>\n",
       "    </tr>\n",
       "  </thead>\n",
       "  <tbody>\n",
       "    <tr>\n",
       "      <th>0</th>\n",
       "      <td>The total value of the deal is USD 29mn .</td>\n",
       "      <td>0.000427</td>\n",
       "      <td>0.998935</td>\n",
       "      <td>0.000639</td>\n",
       "    </tr>\n",
       "    <tr>\n",
       "      <th>1</th>\n",
       "      <td>Swedbank Hypotek - Is to issue a benchmark , f...</td>\n",
       "      <td>0.000365</td>\n",
       "      <td>0.998587</td>\n",
       "      <td>0.001048</td>\n",
       "    </tr>\n",
       "    <tr>\n",
       "      <th>2</th>\n",
       "      <td>Thus the group 's balance sheet will have abou...</td>\n",
       "      <td>0.000713</td>\n",
       "      <td>0.997553</td>\n",
       "      <td>0.001733</td>\n",
       "    </tr>\n",
       "    <tr>\n",
       "      <th>3</th>\n",
       "      <td>The goal is significant expansion in Finland a...</td>\n",
       "      <td>0.000344</td>\n",
       "      <td>0.011046</td>\n",
       "      <td>0.988610</td>\n",
       "    </tr>\n",
       "    <tr>\n",
       "      <th>4</th>\n",
       "      <td>There have been 15 initial public offerings an...</td>\n",
       "      <td>0.000683</td>\n",
       "      <td>0.965225</td>\n",
       "      <td>0.034092</td>\n",
       "    </tr>\n",
       "    <tr>\n",
       "      <th>...</th>\n",
       "      <td>...</td>\n",
       "      <td>...</td>\n",
       "      <td>...</td>\n",
       "      <td>...</td>\n",
       "    </tr>\n",
       "    <tr>\n",
       "      <th>480</th>\n",
       "      <td>`` Capital expenditure on energy efficiency ha...</td>\n",
       "      <td>0.994019</td>\n",
       "      <td>0.002017</td>\n",
       "      <td>0.003964</td>\n",
       "    </tr>\n",
       "    <tr>\n",
       "      <th>481</th>\n",
       "      <td>Finnish property investor Sponda said it has a...</td>\n",
       "      <td>0.000423</td>\n",
       "      <td>0.977679</td>\n",
       "      <td>0.021898</td>\n",
       "    </tr>\n",
       "    <tr>\n",
       "      <th>482</th>\n",
       "      <td>It also confirmed its earnings guidance for th...</td>\n",
       "      <td>0.000782</td>\n",
       "      <td>0.976610</td>\n",
       "      <td>0.022608</td>\n",
       "    </tr>\n",
       "    <tr>\n",
       "      <th>483</th>\n",
       "      <td>Tekla 's defense business employs over 20 pers...</td>\n",
       "      <td>0.000674</td>\n",
       "      <td>0.998721</td>\n",
       "      <td>0.000605</td>\n",
       "    </tr>\n",
       "    <tr>\n",
       "      <th>484</th>\n",
       "      <td>With this acquisition Panostaja Oyj further ex...</td>\n",
       "      <td>0.001660</td>\n",
       "      <td>0.000467</td>\n",
       "      <td>0.997873</td>\n",
       "    </tr>\n",
       "  </tbody>\n",
       "</table>\n",
       "<p>485 rows × 4 columns</p>\n",
       "</div>"
      ],
      "text/plain": [
       "                                              Headline  Positive  Negative  \\\n",
       "0            The total value of the deal is USD 29mn .  0.000427  0.998935   \n",
       "1    Swedbank Hypotek - Is to issue a benchmark , f...  0.000365  0.998587   \n",
       "2    Thus the group 's balance sheet will have abou...  0.000713  0.997553   \n",
       "3    The goal is significant expansion in Finland a...  0.000344  0.011046   \n",
       "4    There have been 15 initial public offerings an...  0.000683  0.965225   \n",
       "..                                                 ...       ...       ...   \n",
       "480  `` Capital expenditure on energy efficiency ha...  0.994019  0.002017   \n",
       "481  Finnish property investor Sponda said it has a...  0.000423  0.977679   \n",
       "482  It also confirmed its earnings guidance for th...  0.000782  0.976610   \n",
       "483  Tekla 's defense business employs over 20 pers...  0.000674  0.998721   \n",
       "484  With this acquisition Panostaja Oyj further ex...  0.001660  0.000467   \n",
       "\n",
       "      Neutral  \n",
       "0    0.000639  \n",
       "1    0.001048  \n",
       "2    0.001733  \n",
       "3    0.988610  \n",
       "4    0.034092  \n",
       "..        ...  \n",
       "480  0.003964  \n",
       "481  0.021898  \n",
       "482  0.022608  \n",
       "483  0.000605  \n",
       "484  0.997873  \n",
       "\n",
       "[485 rows x 4 columns]"
      ]
     },
     "execution_count": 32,
     "metadata": {},
     "output_type": "execute_result"
    }
   ],
   "source": [
    "test_headlines = pd.DataFrame(xtest)\n",
    "test_scores = pd.DataFrame(({d['label']:d['score'] for d in subl} for subl in test))\n",
    "test_final = pd.concat([test_headlines, test_scores], axis = 1)\n",
    "test_final.rename(columns={0: 'Headline',\n",
    "                   'positive': 'Positive',\n",
    "                     'negative': 'Negative',\n",
    "                     'neutral': 'Neutral'},\n",
    "          inplace=True, errors='raise')\n",
    "test_final"
   ]
  },
  {
   "cell_type": "markdown",
   "metadata": {},
   "source": [
    "At this point, we can print the classification report for the test dataset. This report contains the precision, recall f1-score, support and accuracy metrics as well as the micro average and the weighted average of metrics as we have multiclass classification. \n",
    "\n",
    "As we can see the **accuracy** of our model in the test dataset is 89% which is quite good. \n",
    "\n",
    "From the **precision** metric we can see that 89% of Positive labels, 93% of Negative labels and 82% of Neutral labels were correct. The macro average of this metric is 88% while the weighted average is 89%.\n",
    "\n",
    "From the **recall** metric we can see that the 90% of all true Positive phrases, the 91% of all true Negative and the 85% of all Neutral phrases were found correctly. The macro average of this metric is 89% as well as the weighted average too.\n",
    "\n",
    "**F1 score** is the harmonic mean between precision and recall. It is used to rate performance. In other words, an F1-score is a mean of performance based on precision and recall. As we can see the f1-score for our classes is 89%, 92% and 83% for Positive, Negative and Neutral classes respectively. The macro average of this metric is 88% while the weighted average is 89%.\n",
    "\n",
    "**Support** is the number of actual occurrences of each class in our dataset. As we can see, there are 61 Positive phrases, 288 Negative and 136 Neutral.\n",
    "\n",
    "**Note that the Neutral phrases are the hardest to predict**"
   ]
  },
  {
   "cell_type": "code",
   "execution_count": 33,
   "metadata": {},
   "outputs": [
    {
     "name": "stdout",
     "output_type": "stream",
     "text": [
      "              precision    recall  f1-score   support\n",
      "\n",
      "    Positive       0.87      0.85      0.86        61\n",
      "    Negative       0.92      0.88      0.90       288\n",
      "     Neutral       0.80      0.87      0.83       136\n",
      "\n",
      "    accuracy                           0.87       485\n",
      "   macro avg       0.86      0.87      0.86       485\n",
      "weighted avg       0.88      0.87      0.88       485\n",
      "\n"
     ]
    }
   ],
   "source": [
    "target_names = ['Positive', 'Negative', 'Neutral'] # Setting the real names of our classes\n",
    "print(classification_report(ytest, test_preds, target_names=target_names))"
   ]
  },
  {
   "cell_type": "code",
   "execution_count": 34,
   "metadata": {},
   "outputs": [],
   "source": [
    "#Confusion Matrix\n",
    "def print_confusion_matrix(y_true,\n",
    "                           y_pred,\n",
    "                           class_names: List[str],\n",
    "                           figsize: Tuple[int, int] = (10, 7),\n",
    "                           fontsize: int = 14) -> pd.DataFrame:\n",
    "    \"\"\"\n",
    "    Prints a confusion matrix, as returned by sklearn.metrics.confusion_matrix, as a heat-map.\n",
    "\n",
    "    For something more extraordinary check this repo:\n",
    "    https://github.com/wcipriano/pretty-print-confusion-matrix\n",
    "\n",
    "\n",
    "    :param class_names:  An ordered list of class names\n",
    "    :param figsize: A 2-long tuple, the first value determining the horizontal size of the outputted\n",
    "                    figure, the second determining the vertical size. Defaults to (10,7).\n",
    "    :param fontsize: Font size for axes labels. Defaults to 14.\n",
    "    :return: The confusion matrix as a dataset\n",
    "    \"\"\"\n",
    "    conf_matrix = confusion_matrix(y_true=y_true, y_pred=y_pred)\n",
    "\n",
    "    df_cm = pd.DataFrame(conf_matrix, index=class_names, columns=class_names)\n",
    "\n",
    "    fig = plt.figure(figsize=figsize)\n",
    "\n",
    "    try:\n",
    "        heatmap = sns.heatmap(df_cm, annot=True, fmt=\"d\")\n",
    "\n",
    "    except ValueError:\n",
    "\n",
    "        raise ValueError(\"Confusion matrix values must be integers.\")\n",
    "\n",
    "    heatmap.yaxis.set_ticklabels(heatmap.yaxis.get_ticklabels(),\n",
    "                                 rotation=0,\n",
    "                                 ha='right',\n",
    "                                 fontsize=fontsize)\n",
    "\n",
    "    heatmap.xaxis.set_ticklabels(heatmap.xaxis.get_ticklabels(),\n",
    "                                 rotation=45,\n",
    "                                 ha='right',\n",
    "                                 fontsize=fontsize)\n",
    "\n",
    "    plt.ylabel('True label')\n",
    "    plt.xlabel('Predicted label')\n",
    "    plt.show()\n",
    "\n",
    "    return df_cm"
   ]
  },
  {
   "cell_type": "markdown",
   "metadata": {},
   "source": [
    "Below we can see the confusion matrix for the test dataset. The matrix presents the number of classes that predicted true or false in each class."
   ]
  },
  {
   "cell_type": "code",
   "execution_count": 35,
   "metadata": {},
   "outputs": [
    {
     "data": {
      "image/png": "[encoded data removed]",
      "text/plain": [
       "<Figure size 720x504 with 2 Axes>"
      ]
     },
     "metadata": {
      "needs_background": "light"
     },
     "output_type": "display_data"
    },
    {
     "data": {
      "text/html": [
       "<div>\n",
       "<style scoped>\n",
       "    .dataframe tbody tr th:only-of-type {\n",
       "        vertical-align: middle;\n",
       "    }\n",
       "\n",
       "    .dataframe tbody tr th {\n",
       "        vertical-align: top;\n",
       "    }\n",
       "\n",
       "    .dataframe thead th {\n",
       "        text-align: right;\n",
       "    }\n",
       "</style>\n",
       "<table border=\"1\" class=\"dataframe\">\n",
       "  <thead>\n",
       "    <tr style=\"text-align: right;\">\n",
       "      <th></th>\n",
       "      <th>Positive</th>\n",
       "      <th>Negative</th>\n",
       "      <th>Neutral</th>\n",
       "    </tr>\n",
       "  </thead>\n",
       "  <tbody>\n",
       "    <tr>\n",
       "      <th>Positive</th>\n",
       "      <td>52</td>\n",
       "      <td>7</td>\n",
       "      <td>2</td>\n",
       "    </tr>\n",
       "    <tr>\n",
       "      <th>Negative</th>\n",
       "      <td>6</td>\n",
       "      <td>254</td>\n",
       "      <td>28</td>\n",
       "    </tr>\n",
       "    <tr>\n",
       "      <th>Neutral</th>\n",
       "      <td>2</td>\n",
       "      <td>16</td>\n",
       "      <td>118</td>\n",
       "    </tr>\n",
       "  </tbody>\n",
       "</table>\n",
       "</div>"
      ],
      "text/plain": [
       "          Positive  Negative  Neutral\n",
       "Positive        52         7        2\n",
       "Negative         6       254       28\n",
       "Neutral          2        16      118"
      ]
     },
     "execution_count": 35,
     "metadata": {},
     "output_type": "execute_result"
    }
   ],
   "source": [
    "print_confusion_matrix(y_true=ytest,\n",
    "                           y_pred=test_preds,\n",
    "                           class_names=['Positive', 'Negative', 'Neutral'])"
   ]
  },
  {
   "cell_type": "code",
   "execution_count": 36,
   "metadata": {},
   "outputs": [],
   "source": [
    "def plot_multi_class_roc_auc_curves(nb_classes, y_true, y_pred_score, lw: int = 2):\n",
    "    \"\"\"\n",
    "    ROC, AUC for a categorical classifier\n",
    "    \n",
    "    ROC curve extends to problems with three or more classes with what is known as the one-vs-all approach.\n",
    "    For instance, if we have three classes, we will create three ROC curves,\n",
    "\n",
    "    For each class, we take it as the positive class and group the rest classes jointly as the negative class.\n",
    "\n",
    "    Class 1 vs classes 2&3\n",
    "    Class 2 vs classes 1&3\n",
    "    Class 3 vs classes 1&2\n",
    "\n",
    "    :param nb_classes:\n",
    "    :param y_true:\n",
    "    :param y_pred_score:\n",
    "    :param lw:\n",
    "    :return:\n",
    "    \"\"\"\n",
    "\n",
    "    # Compute ROC curve and ROC area for each class\n",
    "    fpr = dict()\n",
    "    tpr = dict()\n",
    "    roc_auc = dict()\n",
    "\n",
    "    for i in range(nb_classes):\n",
    "        fpr[i], tpr[i], _ = roc_curve(y_true[:, i], y_pred_score[:, i])\n",
    "\n",
    "        roc_auc[i] = auc(fpr[i], tpr[i])\n",
    "\n",
    "    # Compute micro-average ROC curve and ROC area\n",
    "    fpr[\"micro\"], tpr[\"micro\"], _ = roc_curve(y_true.ravel(), y_pred_score.ravel())\n",
    "\n",
    "    roc_auc[\"micro\"] = auc(fpr[\"micro\"], tpr[\"micro\"])\n",
    "\n",
    "    # Compute macro-average ROC curve and ROC area\n",
    "\n",
    "    # First aggregate all false positive rates\n",
    "    all_fpr = np.unique(np.concatenate([fpr[i] for i in range(nb_classes)]))\n",
    "\n",
    "    # Then interpolate all ROC curves at this points\n",
    "    mean_tpr = np.zeros_like(all_fpr)\n",
    "\n",
    "    for i in range(nb_classes):\n",
    "        mean_tpr += interp(all_fpr, fpr[i], tpr[i])\n",
    "\n",
    "    # Finally average it and compute AUC\n",
    "    mean_tpr /= nb_classes\n",
    "\n",
    "    fpr[\"macro\"] = all_fpr\n",
    "    tpr[\"macro\"] = mean_tpr\n",
    "    roc_auc[\"macro\"] = auc(fpr[\"macro\"], tpr[\"macro\"])\n",
    "\n",
    "    # Plot all ROC curves\n",
    "    plt.figure(1)\n",
    "    plt.plot(fpr[\"micro\"],\n",
    "             tpr[\"micro\"],\n",
    "             label='micro-average ROC curve (area = {0:0.2f})'.format(roc_auc[\"micro\"]),\n",
    "             color='deeppink',\n",
    "             linestyle=':',\n",
    "             linewidth=4)\n",
    "\n",
    "    plt.plot(fpr[\"macro\"],\n",
    "             tpr[\"macro\"],\n",
    "             label='macro-average ROC curve (area = {0:0.2f})'.format(roc_auc[\"macro\"]),\n",
    "             color='navy',\n",
    "             linestyle=':',\n",
    "             linewidth=4)\n",
    "\n",
    "    colors = cycle(['aqua',\n",
    "                    'darkorange',\n",
    "                    'cornflowerblue'])\n",
    "\n",
    "    for i, color in zip(range(nb_classes), colors):\n",
    "        plt.plot(fpr[i],\n",
    "                 tpr[i],\n",
    "                 color=color,\n",
    "                 lw=lw,\n",
    "                 label='ROC curve of class {0} (area = {1:0.2f})'.format(i, roc_auc[i]))\n",
    "\n",
    "    plt.plot([0, 1],\n",
    "             [0, 1],\n",
    "             'k--',\n",
    "             lw=lw)\n",
    "\n",
    "    plt.xlim([0.0, 1.0])\n",
    "    plt.ylim([0.0, 1.05])\n",
    "\n",
    "    plt.xlabel('False Positive Rate')\n",
    "    plt.ylabel('True Positive Rate')\n",
    "\n",
    "    plt.title('Multi-Class Receiver operating characteristic')\n",
    "    plt.legend(loc=\"lower right\")\n",
    "    # plt.show()\n",
    "\n",
    "    # Zoom in view of the upper left corner.\n",
    "    plt.figure(2)\n",
    "    plt.xlim(0, 0.2)\n",
    "    plt.ylim(0.7, 1)\n",
    "\n",
    "    plt.plot(fpr[\"micro\"],\n",
    "             tpr[\"micro\"],\n",
    "             label='micro-average ROC curve (area = {0:0.2f})'.format(roc_auc[\"micro\"]),\n",
    "             color='deeppink',\n",
    "             linestyle=':',\n",
    "             linewidth=4)\n",
    "\n",
    "    plt.plot(fpr[\"macro\"],\n",
    "             tpr[\"macro\"],\n",
    "             label='macro-average ROC curve (area = {0:0.2f})'.format(roc_auc[\"macro\"]),\n",
    "             color='navy',\n",
    "             linestyle=':',\n",
    "             linewidth=4)\n",
    "\n",
    "    colors = cycle(['aqua',\n",
    "                    'darkorange',\n",
    "                    'cornflowerblue'])\n",
    "\n",
    "    for i, color in zip(range(nb_classes), colors):\n",
    "        plt.plot(fpr[i],\n",
    "                 tpr[i],\n",
    "                 color=color,\n",
    "                 lw=lw,\n",
    "                 label='ROC curve of class {0} (area = {1:0.2f})'.format(i, roc_auc[i]))\n",
    "\n",
    "    plt.plot([0, 1],\n",
    "             [0, 1],\n",
    "             'k--', lw=lw)\n",
    "\n",
    "    plt.xlabel('False Positive Rate')\n",
    "    plt.ylabel('True Positive Rate')\n",
    "    plt.title('Multi-Class Receiver operating characteristic (zoomed)')\n",
    "    plt.legend(loc=\"lower right\")\n",
    "    plt.show()"
   ]
  },
  {
   "cell_type": "markdown",
   "metadata": {},
   "source": [
    "**ROC curve** (receiver operating characteristic curve) shows the performance of a classification model at all classification thresholds. This curve plots two parameters the True Positive Rate (TPR) and the False Positive Rate (FPR). \n",
    "\n",
    "The ROC curve shows the trade-off between sensitivity (or TPR) and specificity (1 – FPR). Classifiers that give curves closer to the top-left corner indicate a better performance. As a baseline, a random classifier is expected to give points lying along the diagonal (FPR = TPR).\n",
    "\n",
    "The first plot shows the ROC curve for the test dataset while the second one simply zooms to the top-left corner to study better each ROC - curve. In our case as we have a multi-class classification we have 5 curves. Three for the classes (class 0: Positive class, class 1: Negative class and class 2: Neutral class) and two for the averages (macro and weighted average).\n",
    "\n",
    "As we can see, the Positive class presents the best performance while the Neutral the worst. The overall performance of our model is quite good as all curves are preaty close to the top-left corner with the micro - average and weighted - average ROC curves True Positive Rates beeing close to 90%."
   ]
  },
  {
   "cell_type": "code",
   "execution_count": 37,
   "metadata": {},
   "outputs": [
    {
     "name": "stderr",
     "output_type": "stream",
     "text": [
      "scipy.interp is deprecated and will be removed in SciPy 2.0.0, use numpy.interp instead\n"
     ]
    },
    {
     "data": {
      "image/png": "[encoded data removed]",
      "text/plain": [
       "<Figure size 432x288 with 1 Axes>"
      ]
     },
     "metadata": {
      "needs_background": "light"
     },
     "output_type": "display_data"
    },
    {
     "data": {
      "image/png": "[encoded data removed]",
      "text/plain": [
       "<Figure size 432x288 with 1 Axes>"
      ]
     },
     "metadata": {
      "needs_background": "light"
     },
     "output_type": "display_data"
    }
   ],
   "source": [
    "# Binarize the output\n",
    "y_true_test = label_binarize(ytest, classes=[0, 1, 2])\n",
    "n_classes = y_true_test.shape[1]\n",
    "y_pred_test = output_test.predictions\n",
    "\n",
    "plot_multi_class_roc_auc_curves(nb_classes = n_classes, y_true = y_true_test, y_pred_score = y_pred_test)"
   ]
  },
  {
   "cell_type": "markdown",
   "metadata": {},
   "source": [
    "# Validation Dataset\n",
    "\n",
    "In this section, we repeat the same evaluation process but in the validation dataset which wll give us a more realistic performace evaluation of our model."
   ]
  },
  {
   "cell_type": "code",
   "execution_count": 38,
   "metadata": {},
   "outputs": [],
   "source": [
    "pred_dataset_valid_raw = Dataset.from_dict({'text': xvalid})"
   ]
  },
  {
   "cell_type": "code",
   "execution_count": 39,
   "metadata": {},
   "outputs": [
    {
     "data": {
      "application/vnd.jupyter.widget-view+json": {
       "model_id": "d7fd62dead30425fbb4605ac48a815dc",
       "version_major": 2,
       "version_minor": 0
      },
      "text/plain": [
       "  0%|          | 0/873 [00:00<?, ?ex/s]"
      ]
     },
     "metadata": {},
     "output_type": "display_data"
    }
   ],
   "source": [
    "pred_dataset_valid = pred_dataset_valid_raw.map(tokenize_fn, batched=False)"
   ]
  },
  {
   "cell_type": "code",
   "execution_count": 40,
   "metadata": {},
   "outputs": [
    {
     "name": "stderr",
     "output_type": "stream",
     "text": [
      "The following columns in the test set don't have a corresponding argument in `BertForSequenceClassification.forward` and have been ignored: text. If text are not expected by `BertForSequenceClassification.forward`,  you can safely ignore this message.\n",
      "***** Running Prediction *****\n",
      "  Num examples = 873\n",
      "  Batch size = 32\n"
     ]
    }
   ],
   "source": [
    "output_valid = trainer.predict(\n",
    "    test_dataset=pred_dataset_valid\n",
    ")\n",
    "valid_preds = [np.argmax(x) for x in output_valid.predictions]"
   ]
  },
  {
   "cell_type": "code",
   "execution_count": 41,
   "metadata": {},
   "outputs": [],
   "source": [
    "# For evaluation in validation dataset\n",
    "valid = predictor(list(xvalid))"
   ]
  },
  {
   "cell_type": "code",
   "execution_count": 42,
   "metadata": {},
   "outputs": [
    {
     "data": {
      "text/html": [
       "<div>\n",
       "<style scoped>\n",
       "    .dataframe tbody tr th:only-of-type {\n",
       "        vertical-align: middle;\n",
       "    }\n",
       "\n",
       "    .dataframe tbody tr th {\n",
       "        vertical-align: top;\n",
       "    }\n",
       "\n",
       "    .dataframe thead th {\n",
       "        text-align: right;\n",
       "    }\n",
       "</style>\n",
       "<table border=\"1\" class=\"dataframe\">\n",
       "  <thead>\n",
       "    <tr style=\"text-align: right;\">\n",
       "      <th></th>\n",
       "      <th>Headline</th>\n",
       "      <th>Positive</th>\n",
       "      <th>Negative</th>\n",
       "      <th>Neutral</th>\n",
       "    </tr>\n",
       "  </thead>\n",
       "  <tbody>\n",
       "    <tr>\n",
       "      <th>0</th>\n",
       "      <td>Kesko Agro Eesti , the retailer and wholesaler...</td>\n",
       "      <td>0.000655</td>\n",
       "      <td>0.001169</td>\n",
       "      <td>0.998176</td>\n",
       "    </tr>\n",
       "    <tr>\n",
       "      <th>1</th>\n",
       "      <td>The medium-term operative targets of the compa...</td>\n",
       "      <td>0.000544</td>\n",
       "      <td>0.998800</td>\n",
       "      <td>0.000656</td>\n",
       "    </tr>\n",
       "    <tr>\n",
       "      <th>2</th>\n",
       "      <td>The group posted net sales of 35.3 mln euro $ ...</td>\n",
       "      <td>0.000535</td>\n",
       "      <td>0.998858</td>\n",
       "      <td>0.000607</td>\n",
       "    </tr>\n",
       "    <tr>\n",
       "      <th>3</th>\n",
       "      <td>So far the company has awarded more than $ 350...</td>\n",
       "      <td>0.000441</td>\n",
       "      <td>0.001629</td>\n",
       "      <td>0.997931</td>\n",
       "    </tr>\n",
       "    <tr>\n",
       "      <th>4</th>\n",
       "      <td>The outsourcing agreement , which covers equip...</td>\n",
       "      <td>0.000332</td>\n",
       "      <td>0.998589</td>\n",
       "      <td>0.001079</td>\n",
       "    </tr>\n",
       "    <tr>\n",
       "      <th>...</th>\n",
       "      <td>...</td>\n",
       "      <td>...</td>\n",
       "      <td>...</td>\n",
       "      <td>...</td>\n",
       "    </tr>\n",
       "    <tr>\n",
       "      <th>868</th>\n",
       "      <td>The contract covers new energy-efficient AC dr...</td>\n",
       "      <td>0.000342</td>\n",
       "      <td>0.997668</td>\n",
       "      <td>0.001991</td>\n",
       "    </tr>\n",
       "    <tr>\n",
       "      <th>869</th>\n",
       "      <td>Coffee will be served starting at 14:30 EET as...</td>\n",
       "      <td>0.000447</td>\n",
       "      <td>0.998764</td>\n",
       "      <td>0.000789</td>\n",
       "    </tr>\n",
       "    <tr>\n",
       "      <th>870</th>\n",
       "      <td>He said things will be different when new Finn...</td>\n",
       "      <td>0.000988</td>\n",
       "      <td>0.908006</td>\n",
       "      <td>0.091006</td>\n",
       "    </tr>\n",
       "    <tr>\n",
       "      <th>871</th>\n",
       "      <td>The issuer is solely responsible for the conte...</td>\n",
       "      <td>0.000650</td>\n",
       "      <td>0.998245</td>\n",
       "      <td>0.001105</td>\n",
       "    </tr>\n",
       "    <tr>\n",
       "      <th>872</th>\n",
       "      <td>The shares represented 4.998 % of total share ...</td>\n",
       "      <td>0.000538</td>\n",
       "      <td>0.998809</td>\n",
       "      <td>0.000653</td>\n",
       "    </tr>\n",
       "  </tbody>\n",
       "</table>\n",
       "<p>873 rows × 4 columns</p>\n",
       "</div>"
      ],
      "text/plain": [
       "                                              Headline  Positive  Negative  \\\n",
       "0    Kesko Agro Eesti , the retailer and wholesaler...  0.000655  0.001169   \n",
       "1    The medium-term operative targets of the compa...  0.000544  0.998800   \n",
       "2    The group posted net sales of 35.3 mln euro $ ...  0.000535  0.998858   \n",
       "3    So far the company has awarded more than $ 350...  0.000441  0.001629   \n",
       "4    The outsourcing agreement , which covers equip...  0.000332  0.998589   \n",
       "..                                                 ...       ...       ...   \n",
       "868  The contract covers new energy-efficient AC dr...  0.000342  0.997668   \n",
       "869  Coffee will be served starting at 14:30 EET as...  0.000447  0.998764   \n",
       "870  He said things will be different when new Finn...  0.000988  0.908006   \n",
       "871  The issuer is solely responsible for the conte...  0.000650  0.998245   \n",
       "872  The shares represented 4.998 % of total share ...  0.000538  0.998809   \n",
       "\n",
       "      Neutral  \n",
       "0    0.998176  \n",
       "1    0.000656  \n",
       "2    0.000607  \n",
       "3    0.997931  \n",
       "4    0.001079  \n",
       "..        ...  \n",
       "868  0.001991  \n",
       "869  0.000789  \n",
       "870  0.091006  \n",
       "871  0.001105  \n",
       "872  0.000653  \n",
       "\n",
       "[873 rows x 4 columns]"
      ]
     },
     "execution_count": 42,
     "metadata": {},
     "output_type": "execute_result"
    }
   ],
   "source": [
    "valid_headlines = pd.DataFrame(xvalid)\n",
    "valid_scores = pd.DataFrame(({d['label']:d['score'] for d in subl} for subl in valid))\n",
    "final_valid = pd.concat([valid_headlines, valid_scores], axis = 1)\n",
    "final_valid.rename(columns={0: 'Headline',\n",
    "                   'positive': 'Positive',\n",
    "                     'negative': 'Negative',\n",
    "                     'neutral': 'Neutral'},\n",
    "          inplace=True, errors='raise')\n",
    "final_valid"
   ]
  },
  {
   "cell_type": "markdown",
   "metadata": {},
   "source": [
    "As we can see the **accuracy** of our model in the validation dataset is 89% identical with the test dataset which makes us believe that overfitting is not present. \n",
    "\n",
    "From the **precision** metric we can see that 85% of Positive labels, 94% of Negative labels and 80% of Neutral labels were correct. The macro average of this metric is 87% while the weighted average is 89%.\n",
    "\n",
    "From the **recall** metric we can see that the 91% of all true Positive phrases, the 87% of all true Negative and the 90% of all Neutral phrases were found correctly. The macro average of this metric is 89% as well as the weighted average too.\n",
    "\n",
    "The **f1-score** for our classes is 88%, 91% and 85% for Positive, Negative and Neutral classes respectively. The macro average of this metric is 88% while the weighted average is 89%.\n",
    "\n",
    "In addition, we can see that there are 109 Positive phrases, 519 Negative and 245 Neutral."
   ]
  },
  {
   "cell_type": "code",
   "execution_count": 43,
   "metadata": {},
   "outputs": [
    {
     "name": "stdout",
     "output_type": "stream",
     "text": [
      "              precision    recall  f1-score   support\n",
      "\n",
      "    Positive       0.87      0.89      0.88       109\n",
      "    Negative       0.93      0.88      0.90       519\n",
      "     Neutral       0.79      0.88      0.84       245\n",
      "\n",
      "    accuracy                           0.88       873\n",
      "   macro avg       0.87      0.88      0.87       873\n",
      "weighted avg       0.89      0.88      0.88       873\n",
      "\n"
     ]
    }
   ],
   "source": [
    "print(classification_report(yvalid, valid_preds, target_names=target_names))"
   ]
  },
  {
   "cell_type": "markdown",
   "metadata": {},
   "source": [
    "The confusion matrix for the validation dataset is presented below."
   ]
  },
  {
   "cell_type": "code",
   "execution_count": 44,
   "metadata": {},
   "outputs": [
    {
     "data": {
      "image/png": "[encoded data removed]",
      "text/plain": [
       "<Figure size 720x504 with 2 Axes>"
      ]
     },
     "metadata": {
      "needs_background": "light"
     },
     "output_type": "display_data"
    },
    {
     "data": {
      "text/html": [
       "<div>\n",
       "<style scoped>\n",
       "    .dataframe tbody tr th:only-of-type {\n",
       "        vertical-align: middle;\n",
       "    }\n",
       "\n",
       "    .dataframe tbody tr th {\n",
       "        vertical-align: top;\n",
       "    }\n",
       "\n",
       "    .dataframe thead th {\n",
       "        text-align: right;\n",
       "    }\n",
       "</style>\n",
       "<table border=\"1\" class=\"dataframe\">\n",
       "  <thead>\n",
       "    <tr style=\"text-align: right;\">\n",
       "      <th></th>\n",
       "      <th>Positive</th>\n",
       "      <th>Negative</th>\n",
       "      <th>Neutral</th>\n",
       "    </tr>\n",
       "  </thead>\n",
       "  <tbody>\n",
       "    <tr>\n",
       "      <th>Positive</th>\n",
       "      <td>97</td>\n",
       "      <td>10</td>\n",
       "      <td>2</td>\n",
       "    </tr>\n",
       "    <tr>\n",
       "      <th>Negative</th>\n",
       "      <td>9</td>\n",
       "      <td>456</td>\n",
       "      <td>54</td>\n",
       "    </tr>\n",
       "    <tr>\n",
       "      <th>Neutral</th>\n",
       "      <td>5</td>\n",
       "      <td>24</td>\n",
       "      <td>216</td>\n",
       "    </tr>\n",
       "  </tbody>\n",
       "</table>\n",
       "</div>"
      ],
      "text/plain": [
       "          Positive  Negative  Neutral\n",
       "Positive        97        10        2\n",
       "Negative         9       456       54\n",
       "Neutral          5        24      216"
      ]
     },
     "execution_count": 44,
     "metadata": {},
     "output_type": "execute_result"
    }
   ],
   "source": [
    "print_confusion_matrix(y_true=yvalid,\n",
    "                           y_pred=valid_preds,\n",
    "                           class_names=['Positive', 'Negative', 'Neutral'])"
   ]
  },
  {
   "cell_type": "markdown",
   "metadata": {},
   "source": [
    "Last but not least as we can see for the ROC curves below, the Positive class presents the best performance while the Negative this time the worst. The overall performance of our model is quite good as all curves are preaty close to the top-left corner with the micro - average and weighted- average ROC curves True Positive Rates beeing more than 90%."
   ]
  },
  {
   "cell_type": "code",
   "execution_count": 45,
   "metadata": {},
   "outputs": [
    {
     "name": "stderr",
     "output_type": "stream",
     "text": [
      "scipy.interp is deprecated and will be removed in SciPy 2.0.0, use numpy.interp instead\n"
     ]
    },
    {
     "data": {
      "image/png": "[encoded data removed]",
      "text/plain": [
       "<Figure size 432x288 with 1 Axes>"
      ]
     },
     "metadata": {
      "needs_background": "light"
     },
     "output_type": "display_data"
    },
    {
     "data": {
      "image/png": "[encoded data removed]",
      "text/plain": [
       "<Figure size 432x288 with 1 Axes>"
      ]
     },
     "metadata": {
      "needs_background": "light"
     },
     "output_type": "display_data"
    }
   ],
   "source": [
    "# Binarize the output\n",
    "y_true_valid = label_binarize(yvalid, classes=[0, 1, 2])\n",
    "y_pred_valid = output_valid.predictions\n",
    "\n",
    "plot_multi_class_roc_auc_curves(nb_classes = n_classes, y_true = y_true_valid, y_pred_score = y_pred_valid)"
   ]
  },
  {
   "cell_type": "markdown",
   "metadata": {},
   "source": [
    "# Understanding how a headline is classified\n",
    "\n",
    "To further understand which words drive our model to classify a phrase as Positve, Negative or Neutral we can use the SHAP values and create the plot that is presented below. \n",
    "\n",
    "SHAP values (SHapley Additive exPlanations) is a method based on cooperative game theory and used to increase transparency and interpretability of machine learning models. A positive SHAP value means positive impact on prediction while a negative SHAP value means negative impact.\n",
    "\n",
    "The following example, uses our trained model and predicts the class of a given stock news headline. After predicting the class we calculate the SHAP values and create the plot which show which tokens drove our model to clasiffy it as negative."
   ]
  },
  {
   "cell_type": "code",
   "execution_count": 46,
   "metadata": {},
   "outputs": [],
   "source": [
    "# A sample of headline to test it\n",
    "headline_list = [ \"Google CEO expreses worries about rising inflation\"]"
   ]
  },
  {
   "cell_type": "code",
   "execution_count": 47,
   "metadata": {},
   "outputs": [],
   "source": [
    "clf = pipeline(\"text-classification\", model=model, tokenizer=tokenizer, return_all_scores = True) "
   ]
  },
  {
   "cell_type": "code",
   "execution_count": 48,
   "metadata": {},
   "outputs": [
    {
     "data": {
      "text/html": [
       "<br/><b>0th instance:</b><br/>"
      ],
      "text/plain": [
       "<IPython.core.display.HTML object>"
      ]
     },
     "metadata": {},
     "output_type": "display_data"
    },
    {
     "data": {
      "text/html": [
       "\n",
       "    <script>\n",
       "        function selectVizType_qahftrxckafnafqofpva(selectObject) {\n",
       "\n",
       "          /* Hide all viz */\n",
       "\n",
       "            var elements = document.getElementsByClassName(\"qahftrxckafnafqofpva_viz_container\")\n",
       "          for (var i = 0; i < elements.length; i++){\n",
       "              elements[i].style.display = 'none';\n",
       "          }\n",
       "\n",
       "          var value = selectObject.value;\n",
       "          if ( value === \"saliency-plot\" ){\n",
       "              document.getElementById('qahftrxckafnafqofpva_saliency_plot_container').style.display  = \"block\";\n",
       "          }\n",
       "          else if ( value === \"heatmap\" ) {\n",
       "              document.getElementById('qahftrxckafnafqofpva_heatmap_container').style.display  = \"block\";\n",
       "          }\n",
       "        }\n",
       "    </script>\n",
       "    \n",
       "    <html>\n",
       "    <div id=\"qahftrxckafnafqofpva_viz_container\">\n",
       "      <div id=\"qahftrxckafnafqofpva_viz_header\" style=\"padding:15px;border-style:solid;margin:5px;font-family:sans-serif;font-weight:bold;\">\n",
       "        Visualization Type:\n",
       "        <select name=\"viz_type\" id=\"qahftrxckafnafqofpva_viz_type\" onchange=\"selectVizType_qahftrxckafnafqofpva(this)\">\n",
       "          <option value=\"heatmap\" selected=\"selected\">Input/Output - Heatmap</option>\n",
       "          <option value=\"saliency-plot\">Saliency Plot</option>\n",
       "        </select>\n",
       "      </div>\n",
       "      <div id=\"qahftrxckafnafqofpva_content\" style=\"padding:15px;border-style:solid;margin:5px;\">\n",
       "          <div id = \"qahftrxckafnafqofpva_saliency_plot_container\" class=\"qahftrxckafnafqofpva_viz_container\" style=\"display:none\"> \n",
       "              \n",
       "        <div id=\"usieyiccwpusnzjovqwp_saliency_plot\" class=\"usieyiccwpusnzjovqwp_viz_content\">\n",
       "            <div style=\"margin:5px;font-family:sans-serif;font-weight:bold;\">\n",
       "                <span style=\"font-size: 20px;\"> Saliency Plot </span>\n",
       "                <br>\n",
       "                x-axis: Output Text\n",
       "                <br>\n",
       "                y-axis: Input Text\n",
       "            </div>\n",
       "            <table border = \"1\" cellpadding = \"5\" cellspacing = \"5\" style=\"overflow-x:scroll;display:block;\"><tr><th></th><th></th><th>Google CEO expreses </th><th>worries </th><th>about </th><th>rising </th><th>inflation</th><th></th></tr><tr><th>positive</th><th style=\"background:rgba(230.2941176470614, 26.505882352939775, 102.59215686274348, 0.0)\">0.0</th><th style=\"background:rgba(255.0, 13.0, 87.0, 0.10924935630817992)\">0.275</th><th style=\"background:rgba(255.0, 13.0, 87.0, 1.0)\">2.507</th><th style=\"background:rgba(255.0, 13.0, 87.0, 0.33784907902554967)\">0.855</th><th style=\"background:rgba(255.0, 13.0, 87.0, 0.5428005545652606)\">1.367</th><th style=\"background:rgba(255.0, 13.0, 87.0, 0.6058625470390177)\">1.511</th><th style=\"background:rgba(230.2941176470614, 26.505882352939775, 102.59215686274348, 0.0)\">0.0</th></tr><tr><th>negative</th><th style=\"background:rgba(230.2941176470614, 26.505882352939775, 102.59215686274348, 0.0)\">0.0</th><th style=\"background:rgba(255.0, 13.0, 87.0, 0.14078035254505847)\">0.368</th><th style=\"background:rgba(30.0, 136.0, 229.0, 0.8738760150524857)\">-2.187</th><th style=\"background:rgba(30.0, 136.0, 229.0, 0.2432560903149138)\">-0.619</th><th style=\"background:rgba(30.0, 136.0, 229.0, 0.9054070112893642)\">-2.26</th><th style=\"background:rgba(230.2941176470614, 26.505882352939775, 102.59215686274348, 0.0)\">0.002</th><th style=\"background:rgba(230.2941176470614, 26.505882352939775, 102.59215686274348, 0.0)\">0.0</th></tr><tr><th>neutral</th><th style=\"background:rgba(230.2941176470614, 26.505882352939775, 102.59215686274348, 0.0)\">0.0</th><th style=\"background:rgba(30.0, 136.0, 229.0, 0.9684690037631214)\">-2.41</th><th style=\"background:rgba(255.0, 13.0, 87.0, 0.3536145771439889)\">0.892</th><th style=\"background:rgba(255.0, 13.0, 87.0, 0.14866310160427795)\">0.378</th><th style=\"background:rgba(255.0, 13.0, 87.0, 0.49550406020994264)\">1.249</th><th style=\"background:rgba(30.0, 136.0, 229.0, 0.5664488017429193)\">-1.418</th><th style=\"background:rgba(230.2941176470614, 26.505882352939775, 102.59215686274348, 0.0)\">0.0</th></tr></table>\n",
       "        </div>\n",
       "    \n",
       "          </div>\n",
       "          \n",
       "          <div id = \"qahftrxckafnafqofpva_heatmap_container\" class=\"qahftrxckafnafqofpva_viz_container\">\n",
       "              \n",
       "        <div id=\"sbfhcgchqjjfgyqpesej_heatmap\" class=\"sbfhcgchqjjfgyqpesej_viz_content\">\n",
       "          <div id=\"sbfhcgchqjjfgyqpesej_heatmap_header\" style=\"padding:15px;margin:5px;font-family:sans-serif;font-weight:bold;\">\n",
       "            <div style=\"display:inline\">\n",
       "              <span style=\"font-size: 20px;\"> Input/Output - Heatmap </span>\n",
       "            </div>\n",
       "            <div style=\"display:inline;float:right\">\n",
       "              Layout :\n",
       "              <select name=\"alignment\" id=\"sbfhcgchqjjfgyqpesej_alignment\" onchange=\"selectAlignment_sbfhcgchqjjfgyqpesej(this)\">\n",
       "                <option value=\"left-right\" selected=\"selected\">Left/Right</option>\n",
       "                <option value=\"top-bottom\">Top/Bottom</option>\n",
       "              </select>\n",
       "            </div>\n",
       "          </div>\n",
       "          <div id=\"sbfhcgchqjjfgyqpesej_heatmap_content\" style=\"display:flex;\">\n",
       "            <div id=\"sbfhcgchqjjfgyqpesej_input_container\" style=\"padding:15px;border-style:solid;margin:5px;flex:1;\">\n",
       "              <div id=\"sbfhcgchqjjfgyqpesej_input_header\" style=\"margin:5px;font-weight:bold;font-family:sans-serif;margin-bottom:10px\">\n",
       "                Input Text\n",
       "              </div>\n",
       "              <div id=\"sbfhcgchqjjfgyqpesej_input_content\" style=\"margin:5px;font-family:sans-serif;\">\n",
       "                  <div id=\"sbfhcgchqjjfgyqpesej_input_node_20_container\" style=\"display:inline;text-align:center\"><div id=\"sbfhcgchqjjfgyqpesej_input_node_20_label\" style=\"display:none; padding-top: 0px; font-size:12px;\"></div><div id=\"sbfhcgchqjjfgyqpesej_input_node_20_content\" style=\"display:inline;\"><div id=\"sbfhcgchqjjfgyqpesej_input_node_19_container\" style=\"display:inline;text-align:center\"><div id=\"sbfhcgchqjjfgyqpesej_input_node_19_label\" style=\"display:none; padding-top: 0px; font-size:12px;\"></div><div id=\"sbfhcgchqjjfgyqpesej_input_node_19_content\" style=\"display:inline;\"><div id=\"sbfhcgchqjjfgyqpesej_input_node_0_container\" style=\"display:inline;text-align:center\"><div id=\"sbfhcgchqjjfgyqpesej_input_node_0_label\" style=\"display:none; padding-top: 0px; font-size:12px;\"></div><div id=\"sbfhcgchqjjfgyqpesej_input_node_0_content\"style='display: inline; background:transparent; border-radius: 3px; padding: 0px;cursor: default;cursor: pointer;'onmouseover=\"onMouseHoverFlat_sbfhcgchqjjfgyqpesej(this.id)\" onmouseout=\"onMouseOutFlat_sbfhcgchqjjfgyqpesej(this.id)\" onclick=\"onMouseClickFlat_sbfhcgchqjjfgyqpesej(this.id)\" ></div></div><div id=\"sbfhcgchqjjfgyqpesej_input_node_18_container\" style=\"display:inline;text-align:center\"><div id=\"sbfhcgchqjjfgyqpesej_input_node_18_label\" style=\"display:none; padding-top: 0px; font-size:12px;\"></div><div id=\"sbfhcgchqjjfgyqpesej_input_node_18_content\" style=\"display:inline;\"><div id=\"sbfhcgchqjjfgyqpesej_input_node_17_container\" style=\"display:inline;text-align:center\"><div id=\"sbfhcgchqjjfgyqpesej_input_node_17_label\" style=\"display:none; padding-top: 0px; font-size:12px;\"></div><div id=\"sbfhcgchqjjfgyqpesej_input_node_17_content\" style=\"display:inline;\"><div id=\"sbfhcgchqjjfgyqpesej_input_node_13_container\" style=\"display:inline;text-align:center\"><div id=\"sbfhcgchqjjfgyqpesej_input_node_13_label\" style=\"display:none; padding-top: 0px; font-size:12px;\"></div><div id=\"sbfhcgchqjjfgyqpesej_input_node_13_content\" style=\"display:inline;\"><div id=\"sbfhcgchqjjfgyqpesej_input_node_1_container\" style=\"display:inline;text-align:center\"><div id=\"sbfhcgchqjjfgyqpesej_input_node_1_label\" style=\"display:none; padding-top: 0px; font-size:12px;\"></div><div id=\"sbfhcgchqjjfgyqpesej_input_node_1_content\"style='display: inline; background:transparent; border-radius: 3px; padding: 0px;cursor: default;cursor: pointer;'onmouseover=\"onMouseHoverFlat_sbfhcgchqjjfgyqpesej(this.id)\" onmouseout=\"onMouseOutFlat_sbfhcgchqjjfgyqpesej(this.id)\" onclick=\"onMouseClickFlat_sbfhcgchqjjfgyqpesej(this.id)\" >Google </div></div><div id=\"sbfhcgchqjjfgyqpesej_input_node_2_container\" style=\"display:inline;text-align:center\"><div id=\"sbfhcgchqjjfgyqpesej_input_node_2_label\" style=\"display:none; padding-top: 0px; font-size:12px;\"></div><div id=\"sbfhcgchqjjfgyqpesej_input_node_2_content\"style='display: inline; background:transparent; border-radius: 3px; padding: 0px;cursor: default;cursor: pointer;'onmouseover=\"onMouseHoverFlat_sbfhcgchqjjfgyqpesej(this.id)\" onmouseout=\"onMouseOutFlat_sbfhcgchqjjfgyqpesej(this.id)\" onclick=\"onMouseClickFlat_sbfhcgchqjjfgyqpesej(this.id)\" >CEO </div></div></div></div><div id=\"sbfhcgchqjjfgyqpesej_input_node_12_container\" style=\"display:inline;text-align:center\"><div id=\"sbfhcgchqjjfgyqpesej_input_node_12_label\" style=\"display:none; padding-top: 0px; font-size:12px;\"></div><div id=\"sbfhcgchqjjfgyqpesej_input_node_12_content\" style=\"display:inline;\"><div id=\"sbfhcgchqjjfgyqpesej_input_node_11_container\" style=\"display:inline;text-align:center\"><div id=\"sbfhcgchqjjfgyqpesej_input_node_11_label\" style=\"display:none; padding-top: 0px; font-size:12px;\"></div><div id=\"sbfhcgchqjjfgyqpesej_input_node_11_content\" style=\"display:inline;\"><div id=\"sbfhcgchqjjfgyqpesej_input_node_3_container\" style=\"display:inline;text-align:center\"><div id=\"sbfhcgchqjjfgyqpesej_input_node_3_label\" style=\"display:none; padding-top: 0px; font-size:12px;\"></div><div id=\"sbfhcgchqjjfgyqpesej_input_node_3_content\"style='display: inline; background:transparent; border-radius: 3px; padding: 0px;cursor: default;cursor: pointer;'onmouseover=\"onMouseHoverFlat_sbfhcgchqjjfgyqpesej(this.id)\" onmouseout=\"onMouseOutFlat_sbfhcgchqjjfgyqpesej(this.id)\" onclick=\"onMouseClickFlat_sbfhcgchqjjfgyqpesej(this.id)\" >ex</div></div><div id=\"sbfhcgchqjjfgyqpesej_input_node_4_container\" style=\"display:inline;text-align:center\"><div id=\"sbfhcgchqjjfgyqpesej_input_node_4_label\" style=\"display:none; padding-top: 0px; font-size:12px;\"></div><div id=\"sbfhcgchqjjfgyqpesej_input_node_4_content\"style='display: inline; background:transparent; border-radius: 3px; padding: 0px;cursor: default;cursor: pointer;'onmouseover=\"onMouseHoverFlat_sbfhcgchqjjfgyqpesej(this.id)\" onmouseout=\"onMouseOutFlat_sbfhcgchqjjfgyqpesej(this.id)\" onclick=\"onMouseClickFlat_sbfhcgchqjjfgyqpesej(this.id)\" >pres</div></div></div></div><div id=\"sbfhcgchqjjfgyqpesej_input_node_5_container\" style=\"display:inline;text-align:center\"><div id=\"sbfhcgchqjjfgyqpesej_input_node_5_label\" style=\"display:none; padding-top: 0px; font-size:12px;\"></div><div id=\"sbfhcgchqjjfgyqpesej_input_node_5_content\"style='display: inline; background:transparent; border-radius: 3px; padding: 0px;cursor: default;cursor: pointer;'onmouseover=\"onMouseHoverFlat_sbfhcgchqjjfgyqpesej(this.id)\" onmouseout=\"onMouseOutFlat_sbfhcgchqjjfgyqpesej(this.id)\" onclick=\"onMouseClickFlat_sbfhcgchqjjfgyqpesej(this.id)\" >es </div></div></div></div></div></div><div id=\"sbfhcgchqjjfgyqpesej_input_node_16_container\" style=\"display:inline;text-align:center\"><div id=\"sbfhcgchqjjfgyqpesej_input_node_16_label\" style=\"display:none; padding-top: 0px; font-size:12px;\"></div><div id=\"sbfhcgchqjjfgyqpesej_input_node_16_content\" style=\"display:inline;\"><div id=\"sbfhcgchqjjfgyqpesej_input_node_14_container\" style=\"display:inline;text-align:center\"><div id=\"sbfhcgchqjjfgyqpesej_input_node_14_label\" style=\"display:none; padding-top: 0px; font-size:12px;\"></div><div id=\"sbfhcgchqjjfgyqpesej_input_node_14_content\" style=\"display:inline;\"><div id=\"sbfhcgchqjjfgyqpesej_input_node_6_container\" style=\"display:inline;text-align:center\"><div id=\"sbfhcgchqjjfgyqpesej_input_node_6_label\" style=\"display:none; padding-top: 0px; font-size:12px;\"></div><div id=\"sbfhcgchqjjfgyqpesej_input_node_6_content\"style='display: inline; background:transparent; border-radius: 3px; padding: 0px;cursor: default;cursor: pointer;'onmouseover=\"onMouseHoverFlat_sbfhcgchqjjfgyqpesej(this.id)\" onmouseout=\"onMouseOutFlat_sbfhcgchqjjfgyqpesej(this.id)\" onclick=\"onMouseClickFlat_sbfhcgchqjjfgyqpesej(this.id)\" >worries </div></div><div id=\"sbfhcgchqjjfgyqpesej_input_node_7_container\" style=\"display:inline;text-align:center\"><div id=\"sbfhcgchqjjfgyqpesej_input_node_7_label\" style=\"display:none; padding-top: 0px; font-size:12px;\"></div><div id=\"sbfhcgchqjjfgyqpesej_input_node_7_content\"style='display: inline; background:transparent; border-radius: 3px; padding: 0px;cursor: default;cursor: pointer;'onmouseover=\"onMouseHoverFlat_sbfhcgchqjjfgyqpesej(this.id)\" onmouseout=\"onMouseOutFlat_sbfhcgchqjjfgyqpesej(this.id)\" onclick=\"onMouseClickFlat_sbfhcgchqjjfgyqpesej(this.id)\" >about </div></div></div></div><div id=\"sbfhcgchqjjfgyqpesej_input_node_15_container\" style=\"display:inline;text-align:center\"><div id=\"sbfhcgchqjjfgyqpesej_input_node_15_label\" style=\"display:none; padding-top: 0px; font-size:12px;\"></div><div id=\"sbfhcgchqjjfgyqpesej_input_node_15_content\" style=\"display:inline;\"><div id=\"sbfhcgchqjjfgyqpesej_input_node_8_container\" style=\"display:inline;text-align:center\"><div id=\"sbfhcgchqjjfgyqpesej_input_node_8_label\" style=\"display:none; padding-top: 0px; font-size:12px;\"></div><div id=\"sbfhcgchqjjfgyqpesej_input_node_8_content\"style='display: inline; background:transparent; border-radius: 3px; padding: 0px;cursor: default;cursor: pointer;'onmouseover=\"onMouseHoverFlat_sbfhcgchqjjfgyqpesej(this.id)\" onmouseout=\"onMouseOutFlat_sbfhcgchqjjfgyqpesej(this.id)\" onclick=\"onMouseClickFlat_sbfhcgchqjjfgyqpesej(this.id)\" >rising </div></div><div id=\"sbfhcgchqjjfgyqpesej_input_node_9_container\" style=\"display:inline;text-align:center\"><div id=\"sbfhcgchqjjfgyqpesej_input_node_9_label\" style=\"display:none; padding-top: 0px; font-size:12px;\"></div><div id=\"sbfhcgchqjjfgyqpesej_input_node_9_content\"style='display: inline; background:transparent; border-radius: 3px; padding: 0px;cursor: default;cursor: pointer;'onmouseover=\"onMouseHoverFlat_sbfhcgchqjjfgyqpesej(this.id)\" onmouseout=\"onMouseOutFlat_sbfhcgchqjjfgyqpesej(this.id)\" onclick=\"onMouseClickFlat_sbfhcgchqjjfgyqpesej(this.id)\" >inflation</div></div></div></div></div></div></div></div></div></div><div id=\"sbfhcgchqjjfgyqpesej_input_node_10_container\" style=\"display:inline;text-align:center\"><div id=\"sbfhcgchqjjfgyqpesej_input_node_10_label\" style=\"display:none; padding-top: 0px; font-size:12px;\"></div><div id=\"sbfhcgchqjjfgyqpesej_input_node_10_content\"style='display: inline; background:transparent; border-radius: 3px; padding: 0px;cursor: default;cursor: pointer;'onmouseover=\"onMouseHoverFlat_sbfhcgchqjjfgyqpesej(this.id)\" onmouseout=\"onMouseOutFlat_sbfhcgchqjjfgyqpesej(this.id)\" onclick=\"onMouseClickFlat_sbfhcgchqjjfgyqpesej(this.id)\" ></div></div></div></div>\n",
       "              </div>\n",
       "            </div>\n",
       "            <div id=\"sbfhcgchqjjfgyqpesej_output_container\" style=\"padding:15px;border-style:solid;margin:5px;flex:1;\">\n",
       "              <div id=\"sbfhcgchqjjfgyqpesej_output_header\" style=\"margin:5px;font-weight:bold;font-family:sans-serif;margin-bottom:10px\">\n",
       "                Output Text\n",
       "              </div>\n",
       "              <div id=\"sbfhcgchqjjfgyqpesej_output_content\" style=\"margin:5px;font-family:sans-serif;\">\n",
       "                  <div style='display:inline; text-align:center;'><div id='sbfhcgchqjjfgyqpesej_output_flat_value_label_0'style='display:none;color: #999; padding-top: 0px; font-size:12px;'></div><div id='sbfhcgchqjjfgyqpesej_output_flat_token_0'style='display: inline; background:transparent; border-radius: 3px; padding: 0px;cursor: default;cursor: pointer;'onmouseover=\"onMouseHoverFlat_sbfhcgchqjjfgyqpesej(this.id)\" onmouseout=\"onMouseOutFlat_sbfhcgchqjjfgyqpesej(this.id)\" onclick=\"onMouseClickFlat_sbfhcgchqjjfgyqpesej(this.id)\" >positive </div></div><div style='display:inline; text-align:center;'><div id='sbfhcgchqjjfgyqpesej_output_flat_value_label_1'style='display:none;color: #999; padding-top: 0px; font-size:12px;'></div><div id='sbfhcgchqjjfgyqpesej_output_flat_token_1'style='display: inline; background:transparent; border-radius: 3px; padding: 0px;cursor: default;cursor: pointer;'onmouseover=\"onMouseHoverFlat_sbfhcgchqjjfgyqpesej(this.id)\" onmouseout=\"onMouseOutFlat_sbfhcgchqjjfgyqpesej(this.id)\" onclick=\"onMouseClickFlat_sbfhcgchqjjfgyqpesej(this.id)\" >negative </div></div><div style='display:inline; text-align:center;'><div id='sbfhcgchqjjfgyqpesej_output_flat_value_label_2'style='display:none;color: #999; padding-top: 0px; font-size:12px;'></div><div id='sbfhcgchqjjfgyqpesej_output_flat_token_2'style='display: inline; background:transparent; border-radius: 3px; padding: 0px;cursor: default;cursor: pointer;'onmouseover=\"onMouseHoverFlat_sbfhcgchqjjfgyqpesej(this.id)\" onmouseout=\"onMouseOutFlat_sbfhcgchqjjfgyqpesej(this.id)\" onclick=\"onMouseClickFlat_sbfhcgchqjjfgyqpesej(this.id)\" >neutral </div></div>\n",
       "              </div>\n",
       "            </div>\n",
       "          </div>\n",
       "        </div>\n",
       "    \n",
       "        <script>\n",
       "            function selectAlignment_sbfhcgchqjjfgyqpesej(selectObject) {\n",
       "                var value = selectObject.value;\n",
       "                if ( value === \"left-right\" ){\n",
       "                  document.getElementById('sbfhcgchqjjfgyqpesej_heatmap_content').style.display  = \"flex\";\n",
       "                }\n",
       "                else if ( value === \"top-bottom\" ) {\n",
       "                  document.getElementById('sbfhcgchqjjfgyqpesej_heatmap_content').style.display  = \"inline\";\n",
       "                }\n",
       "            }\n",
       "            \n",
       "            var sbfhcgchqjjfgyqpesej_heatmap_flat_state = null;\n",
       "            \n",
       "            function onMouseHoverFlat_sbfhcgchqjjfgyqpesej(id) {\n",
       "                if (sbfhcgchqjjfgyqpesej_heatmap_flat_state === null) {\n",
       "                    setBackgroundColors_sbfhcgchqjjfgyqpesej(id);\n",
       "                    document.getElementById(id).style.backgroundColor  = \"grey\";\n",
       "                }\n",
       "                \n",
       "                if (getIdSide_sbfhcgchqjjfgyqpesej(id) === 'input' && getIdSide_sbfhcgchqjjfgyqpesej(sbfhcgchqjjfgyqpesej_heatmap_flat_state) === 'output'){\n",
       "                \n",
       "                    label_content_id = token_id_to_node_id_mapping_sbfhcgchqjjfgyqpesej[sbfhcgchqjjfgyqpesej_heatmap_flat_state][id];\n",
       "                    \n",
       "                    if (document.getElementById(label_content_id).previousElementSibling.style.display == 'none'){\n",
       "                        document.getElementById(label_content_id).style.textShadow = \"0px 0px 1px #000000\";\n",
       "                    }\n",
       "                    \n",
       "                }\n",
       "                \n",
       "            }\n",
       "            \n",
       "            function onMouseOutFlat_sbfhcgchqjjfgyqpesej(id) {\n",
       "                if (sbfhcgchqjjfgyqpesej_heatmap_flat_state === null) {\n",
       "                    cleanValuesAndColors_sbfhcgchqjjfgyqpesej(id);\n",
       "                    document.getElementById(id).style.backgroundColor  = \"transparent\";\n",
       "                }\n",
       "                \n",
       "                if (getIdSide_sbfhcgchqjjfgyqpesej(id) === 'input' && getIdSide_sbfhcgchqjjfgyqpesej(sbfhcgchqjjfgyqpesej_heatmap_flat_state) === 'output'){\n",
       "                \n",
       "                    label_content_id = token_id_to_node_id_mapping_sbfhcgchqjjfgyqpesej[sbfhcgchqjjfgyqpesej_heatmap_flat_state][id];\n",
       "                    \n",
       "                    if (document.getElementById(label_content_id).previousElementSibling.style.display == 'none'){\n",
       "                        document.getElementById(label_content_id).style.textShadow = \"inherit\";\n",
       "                    }\n",
       "                    \n",
       "                }\n",
       "                \n",
       "            }\n",
       "\n",
       "            function onMouseClickFlat_sbfhcgchqjjfgyqpesej(id) {\n",
       "                if (sbfhcgchqjjfgyqpesej_heatmap_flat_state === id) {\n",
       "                    \n",
       "                    // If the clicked token was already selected\n",
       "                    \n",
       "                    document.getElementById(id).style.backgroundColor  = \"transparent\";\n",
       "                    cleanValuesAndColors_sbfhcgchqjjfgyqpesej(id);\n",
       "                    sbfhcgchqjjfgyqpesej_heatmap_flat_state = null;\n",
       "                }\n",
       "                else {\n",
       "                    if (sbfhcgchqjjfgyqpesej_heatmap_flat_state === null) {\n",
       "                    \n",
       "                        // No token previously selected, new token clicked on\n",
       "                    \n",
       "                        cleanValuesAndColors_sbfhcgchqjjfgyqpesej(id)\n",
       "                        sbfhcgchqjjfgyqpesej_heatmap_flat_state = id;\n",
       "                        document.getElementById(id).style.backgroundColor  = \"grey\";\n",
       "                        setLabelValues_sbfhcgchqjjfgyqpesej(id);\n",
       "                        setBackgroundColors_sbfhcgchqjjfgyqpesej(id);\n",
       "                    }\n",
       "                    else {\n",
       "                        if (getIdSide_sbfhcgchqjjfgyqpesej(sbfhcgchqjjfgyqpesej_heatmap_flat_state) === getIdSide_sbfhcgchqjjfgyqpesej(id)) {\n",
       "                        \n",
       "                            // User clicked a token on the same side as the currently selected token\n",
       "                            \n",
       "                            cleanValuesAndColors_sbfhcgchqjjfgyqpesej(sbfhcgchqjjfgyqpesej_heatmap_flat_state)\n",
       "                            document.getElementById(sbfhcgchqjjfgyqpesej_heatmap_flat_state).style.backgroundColor  = \"transparent\";\n",
       "                            sbfhcgchqjjfgyqpesej_heatmap_flat_state = id;\n",
       "                            document.getElementById(id).style.backgroundColor  = \"grey\";\n",
       "                            setLabelValues_sbfhcgchqjjfgyqpesej(id);\n",
       "                            setBackgroundColors_sbfhcgchqjjfgyqpesej(id);\n",
       "                        }\n",
       "                        else{\n",
       "                            \n",
       "                            if (getIdSide_sbfhcgchqjjfgyqpesej(id) === 'input') {\n",
       "                                label_content_id = token_id_to_node_id_mapping_sbfhcgchqjjfgyqpesej[sbfhcgchqjjfgyqpesej_heatmap_flat_state][id];\n",
       "                                \n",
       "                                if (document.getElementById(label_content_id).previousElementSibling.style.display == 'none') {\n",
       "                                    document.getElementById(label_content_id).previousElementSibling.style.display = 'block';\n",
       "                                    document.getElementById(label_content_id).parentNode.style.display = 'inline-block';\n",
       "                                    document.getElementById(label_content_id).style.textShadow = \"0px 0px 1px #000000\";\n",
       "                                  }\n",
       "                                else {\n",
       "                                    document.getElementById(label_content_id).previousElementSibling.style.display = 'none';\n",
       "                                    document.getElementById(label_content_id).parentNode.style.display = 'inline';\n",
       "                                    document.getElementById(label_content_id).style.textShadow  = \"inherit\"; \n",
       "                                  }\n",
       "                                \n",
       "                            }\n",
       "                            else {\n",
       "                                if (document.getElementById(id).previousElementSibling.style.display == 'none') {\n",
       "                                    document.getElementById(id).previousElementSibling.style.display = 'block';\n",
       "                                    document.getElementById(id).parentNode.style.display = 'inline-block';\n",
       "                                  }\n",
       "                                else {\n",
       "                                    document.getElementById(id).previousElementSibling.style.display = 'none';\n",
       "                                    document.getElementById(id).parentNode.style.display = 'inline';\n",
       "                                  }\n",
       "                            }\n",
       "                        \n",
       "                        }\n",
       "                    }\n",
       "                \n",
       "                }\n",
       "            }\n",
       "\n",
       "            function setLabelValues_sbfhcgchqjjfgyqpesej(id) {\n",
       "                for(const token in shap_values_sbfhcgchqjjfgyqpesej[id]){\n",
       "                    document.getElementById(token).innerHTML = shap_values_sbfhcgchqjjfgyqpesej[id][token];\n",
       "                    document.getElementById(token).nextElementSibling.title = 'SHAP Value : ' + shap_values_sbfhcgchqjjfgyqpesej[id][token];\n",
       "                }\n",
       "            }\n",
       "\n",
       "            function setBackgroundColors_sbfhcgchqjjfgyqpesej(id) {\n",
       "                for(const token in colors_sbfhcgchqjjfgyqpesej[id]){\n",
       "                    document.getElementById(token).style.backgroundColor  = colors_sbfhcgchqjjfgyqpesej[id][token];\n",
       "                }\n",
       "            }\n",
       "\n",
       "            function cleanValuesAndColors_sbfhcgchqjjfgyqpesej(id) {\n",
       "                for(const token in shap_values_sbfhcgchqjjfgyqpesej[id]){\n",
       "                    document.getElementById(token).innerHTML = \"\";\n",
       "                    document.getElementById(token).nextElementSibling.title = \"\";\n",
       "                }\n",
       "                 for(const token in colors_sbfhcgchqjjfgyqpesej[id]){\n",
       "                    document.getElementById(token).style.backgroundColor  = \"transparent\";\n",
       "                    document.getElementById(token).previousElementSibling.style.display = 'none';\n",
       "                    document.getElementById(token).parentNode.style.display = 'inline';\n",
       "                    document.getElementById(token).style.textShadow  = \"inherit\"; \n",
       "                }\n",
       "            }\n",
       "            \n",
       "            function getIdSide_sbfhcgchqjjfgyqpesej(id) {\n",
       "                if (id === null) {\n",
       "                    return 'null'\n",
       "                }\n",
       "                return id.split(\"_\")[1];\n",
       "            }\n",
       "        </script>\n",
       "    <script> colors_sbfhcgchqjjfgyqpesej = {\"sbfhcgchqjjfgyqpesej_input_node_0_content\": {\"sbfhcgchqjjfgyqpesej_output_flat_token_0\": \"rgba(230.2941176470614, 26.505882352939775, 102.59215686274348, 0.0)\", \"sbfhcgchqjjfgyqpesej_output_flat_token_1\": \"rgba(230.2941176470614, 26.505882352939775, 102.59215686274348, 0.0)\", \"sbfhcgchqjjfgyqpesej_output_flat_token_2\": \"rgba(230.2941176470614, 26.505882352939775, 102.59215686274348, 0.0)\"}, \"sbfhcgchqjjfgyqpesej_input_node_1_content\": {\"sbfhcgchqjjfgyqpesej_output_flat_token_0\": \"rgba(255.0, 13.0, 87.0, 0.03830461477520289)\", \"sbfhcgchqjjfgyqpesej_output_flat_token_1\": \"rgba(255.0, 13.0, 87.0, 0.014656367597544035)\", \"sbfhcgchqjjfgyqpesej_output_flat_token_2\": \"rgba(30.0, 136.0, 229.0, 0.18019409784115656)\"}, \"sbfhcgchqjjfgyqpesej_input_node_2_content\": {\"sbfhcgchqjjfgyqpesej_output_flat_token_0\": \"rgba(255.0, 13.0, 87.0, 0.03830461477520289)\", \"sbfhcgchqjjfgyqpesej_output_flat_token_1\": \"rgba(255.0, 13.0, 87.0, 0.014656367597544035)\", \"sbfhcgchqjjfgyqpesej_output_flat_token_2\": \"rgba(30.0, 136.0, 229.0, 0.18019409784115656)\"}, \"sbfhcgchqjjfgyqpesej_input_node_3_content\": {\"sbfhcgchqjjfgyqpesej_output_flat_token_0\": \"rgba(230.2941176470614, 26.505882352939775, 102.59215686274348, 0.0)\", \"sbfhcgchqjjfgyqpesej_output_flat_token_1\": \"rgba(255.0, 13.0, 87.0, 0.030421865715983164)\", \"sbfhcgchqjjfgyqpesej_output_flat_token_2\": \"rgba(30.0, 136.0, 229.0, 0.1959595959595959)\"}, \"sbfhcgchqjjfgyqpesej_input_node_4_content\": {\"sbfhcgchqjjfgyqpesej_output_flat_token_0\": \"rgba(230.2941176470614, 26.505882352939775, 102.59215686274348, 0.0)\", \"sbfhcgchqjjfgyqpesej_output_flat_token_1\": \"rgba(255.0, 13.0, 87.0, 0.030421865715983164)\", \"sbfhcgchqjjfgyqpesej_output_flat_token_2\": \"rgba(30.0, 136.0, 229.0, 0.1959595959595959)\"}, \"sbfhcgchqjjfgyqpesej_input_node_5_content\": {\"sbfhcgchqjjfgyqpesej_output_flat_token_0\": \"rgba(230.2941176470614, 26.505882352939775, 102.59215686274348, 0.0)\", \"sbfhcgchqjjfgyqpesej_output_flat_token_1\": \"rgba(255.0, 13.0, 87.0, 0.030421865715983164)\", \"sbfhcgchqjjfgyqpesej_output_flat_token_2\": \"rgba(30.0, 136.0, 229.0, 0.1959595959595959)\"}, \"sbfhcgchqjjfgyqpesej_input_node_6_content\": {\"sbfhcgchqjjfgyqpesej_output_flat_token_0\": \"rgba(255.0, 13.0, 87.0, 1.0)\", \"sbfhcgchqjjfgyqpesej_output_flat_token_1\": \"rgba(30.0, 136.0, 229.0, 0.8738760150524857)\", \"sbfhcgchqjjfgyqpesej_output_flat_token_2\": \"rgba(255.0, 13.0, 87.0, 0.3536145771439889)\"}, \"sbfhcgchqjjfgyqpesej_input_node_7_content\": {\"sbfhcgchqjjfgyqpesej_output_flat_token_0\": \"rgba(255.0, 13.0, 87.0, 0.33784907902554967)\", \"sbfhcgchqjjfgyqpesej_output_flat_token_1\": \"rgba(30.0, 136.0, 229.0, 0.2432560903149138)\", \"sbfhcgchqjjfgyqpesej_output_flat_token_2\": \"rgba(255.0, 13.0, 87.0, 0.14866310160427795)\"}, \"sbfhcgchqjjfgyqpesej_input_node_8_content\": {\"sbfhcgchqjjfgyqpesej_output_flat_token_0\": \"rgba(255.0, 13.0, 87.0, 0.5428005545652606)\", \"sbfhcgchqjjfgyqpesej_output_flat_token_1\": \"rgba(30.0, 136.0, 229.0, 0.9054070112893642)\", \"sbfhcgchqjjfgyqpesej_output_flat_token_2\": \"rgba(255.0, 13.0, 87.0, 0.49550406020994264)\"}, \"sbfhcgchqjjfgyqpesej_input_node_9_content\": {\"sbfhcgchqjjfgyqpesej_output_flat_token_0\": \"rgba(255.0, 13.0, 87.0, 0.6058625470390177)\", \"sbfhcgchqjjfgyqpesej_output_flat_token_1\": \"rgba(230.2941176470614, 26.505882352939775, 102.59215686274348, 0.0)\", \"sbfhcgchqjjfgyqpesej_output_flat_token_2\": \"rgba(30.0, 136.0, 229.0, 0.5664488017429193)\"}, \"sbfhcgchqjjfgyqpesej_input_node_10_content\": {\"sbfhcgchqjjfgyqpesej_output_flat_token_0\": \"rgba(230.2941176470614, 26.505882352939775, 102.59215686274348, 0.0)\", \"sbfhcgchqjjfgyqpesej_output_flat_token_1\": \"rgba(230.2941176470614, 26.505882352939775, 102.59215686274348, 0.0)\", \"sbfhcgchqjjfgyqpesej_output_flat_token_2\": \"rgba(230.2941176470614, 26.505882352939775, 102.59215686274348, 0.0)\"}, \"sbfhcgchqjjfgyqpesej_output_flat_token_0\": {\"sbfhcgchqjjfgyqpesej_input_node_0_content\": \"rgba(230.2941176470614, 26.505882352939775, 102.59215686274348, 0.0)\", \"sbfhcgchqjjfgyqpesej_input_node_17_content\": \"rgba(255.0, 13.0, 87.0, 0.10924935630817992)\", \"sbfhcgchqjjfgyqpesej_input_node_6_content\": \"rgba(255.0, 13.0, 87.0, 1.0)\", \"sbfhcgchqjjfgyqpesej_input_node_7_content\": \"rgba(255.0, 13.0, 87.0, 0.33784907902554967)\", \"sbfhcgchqjjfgyqpesej_input_node_8_content\": \"rgba(255.0, 13.0, 87.0, 0.5428005545652606)\", \"sbfhcgchqjjfgyqpesej_input_node_9_content\": \"rgba(255.0, 13.0, 87.0, 0.6058625470390177)\", \"sbfhcgchqjjfgyqpesej_input_node_10_content\": \"rgba(230.2941176470614, 26.505882352939775, 102.59215686274348, 0.0)\"}, \"sbfhcgchqjjfgyqpesej_output_flat_token_1\": {\"sbfhcgchqjjfgyqpesej_input_node_0_content\": \"rgba(230.2941176470614, 26.505882352939775, 102.59215686274348, 0.0)\", \"sbfhcgchqjjfgyqpesej_input_node_13_content\": \"rgba(255.0, 13.0, 87.0, 0.03830461477520289)\", \"sbfhcgchqjjfgyqpesej_input_node_12_content\": \"rgba(255.0, 13.0, 87.0, 0.10136660724896006)\", \"sbfhcgchqjjfgyqpesej_input_node_6_content\": \"rgba(30.0, 136.0, 229.0, 0.8738760150524857)\", \"sbfhcgchqjjfgyqpesej_input_node_7_content\": \"rgba(30.0, 136.0, 229.0, 0.2432560903149138)\", \"sbfhcgchqjjfgyqpesej_input_node_8_content\": \"rgba(30.0, 136.0, 229.0, 0.9054070112893642)\", \"sbfhcgchqjjfgyqpesej_input_node_9_content\": \"rgba(230.2941176470614, 26.505882352939775, 102.59215686274348, 0.0)\", \"sbfhcgchqjjfgyqpesej_input_node_10_content\": \"rgba(230.2941176470614, 26.505882352939775, 102.59215686274348, 0.0)\"}, \"sbfhcgchqjjfgyqpesej_output_flat_token_2\": {\"sbfhcgchqjjfgyqpesej_input_node_0_content\": \"rgba(230.2941176470614, 26.505882352939775, 102.59215686274348, 0.0)\", \"sbfhcgchqjjfgyqpesej_input_node_17_content\": \"rgba(30.0, 136.0, 229.0, 0.9684690037631214)\", \"sbfhcgchqjjfgyqpesej_input_node_6_content\": \"rgba(255.0, 13.0, 87.0, 0.3536145771439889)\", \"sbfhcgchqjjfgyqpesej_input_node_7_content\": \"rgba(255.0, 13.0, 87.0, 0.14866310160427795)\", \"sbfhcgchqjjfgyqpesej_input_node_8_content\": \"rgba(255.0, 13.0, 87.0, 0.49550406020994264)\", \"sbfhcgchqjjfgyqpesej_input_node_9_content\": \"rgba(30.0, 136.0, 229.0, 0.5664488017429193)\", \"sbfhcgchqjjfgyqpesej_input_node_10_content\": \"rgba(230.2941176470614, 26.505882352939775, 102.59215686274348, 0.0)\"}}\n",
       " shap_values_sbfhcgchqjjfgyqpesej = {\"sbfhcgchqjjfgyqpesej_input_node_0_content\": {\"sbfhcgchqjjfgyqpesej_output_flat_value_label_0\": 0.0, \"sbfhcgchqjjfgyqpesej_output_flat_value_label_1\": 0.0, \"sbfhcgchqjjfgyqpesej_output_flat_value_label_2\": 0.0}, \"sbfhcgchqjjfgyqpesej_input_node_1_content\": {\"sbfhcgchqjjfgyqpesej_output_flat_value_label_0\": 0.109, \"sbfhcgchqjjfgyqpesej_output_flat_value_label_1\": 0.05, \"sbfhcgchqjjfgyqpesej_output_flat_value_label_2\": -0.468}, \"sbfhcgchqjjfgyqpesej_input_node_2_content\": {\"sbfhcgchqjjfgyqpesej_output_flat_value_label_0\": 0.109, \"sbfhcgchqjjfgyqpesej_output_flat_value_label_1\": 0.05, \"sbfhcgchqjjfgyqpesej_output_flat_value_label_2\": -0.468}, \"sbfhcgchqjjfgyqpesej_input_node_3_content\": {\"sbfhcgchqjjfgyqpesej_output_flat_value_label_0\": 0.019, \"sbfhcgchqjjfgyqpesej_output_flat_value_label_1\": 0.089, \"sbfhcgchqjjfgyqpesej_output_flat_value_label_2\": -0.492}, \"sbfhcgchqjjfgyqpesej_input_node_4_content\": {\"sbfhcgchqjjfgyqpesej_output_flat_value_label_0\": 0.019, \"sbfhcgchqjjfgyqpesej_output_flat_value_label_1\": 0.089, \"sbfhcgchqjjfgyqpesej_output_flat_value_label_2\": -0.492}, \"sbfhcgchqjjfgyqpesej_input_node_5_content\": {\"sbfhcgchqjjfgyqpesej_output_flat_value_label_0\": 0.019, \"sbfhcgchqjjfgyqpesej_output_flat_value_label_1\": 0.089, \"sbfhcgchqjjfgyqpesej_output_flat_value_label_2\": -0.492}, \"sbfhcgchqjjfgyqpesej_input_node_6_content\": {\"sbfhcgchqjjfgyqpesej_output_flat_value_label_0\": 2.507, \"sbfhcgchqjjfgyqpesej_output_flat_value_label_1\": -2.187, \"sbfhcgchqjjfgyqpesej_output_flat_value_label_2\": 0.892}, \"sbfhcgchqjjfgyqpesej_input_node_7_content\": {\"sbfhcgchqjjfgyqpesej_output_flat_value_label_0\": 0.855, \"sbfhcgchqjjfgyqpesej_output_flat_value_label_1\": -0.619, \"sbfhcgchqjjfgyqpesej_output_flat_value_label_2\": 0.378}, \"sbfhcgchqjjfgyqpesej_input_node_8_content\": {\"sbfhcgchqjjfgyqpesej_output_flat_value_label_0\": 1.367, \"sbfhcgchqjjfgyqpesej_output_flat_value_label_1\": -2.26, \"sbfhcgchqjjfgyqpesej_output_flat_value_label_2\": 1.249}, \"sbfhcgchqjjfgyqpesej_input_node_9_content\": {\"sbfhcgchqjjfgyqpesej_output_flat_value_label_0\": 1.511, \"sbfhcgchqjjfgyqpesej_output_flat_value_label_1\": 0.002, \"sbfhcgchqjjfgyqpesej_output_flat_value_label_2\": -1.418}, \"sbfhcgchqjjfgyqpesej_input_node_10_content\": {\"sbfhcgchqjjfgyqpesej_output_flat_value_label_0\": 0.0, \"sbfhcgchqjjfgyqpesej_output_flat_value_label_1\": 0.0, \"sbfhcgchqjjfgyqpesej_output_flat_value_label_2\": 0.0}, \"sbfhcgchqjjfgyqpesej_output_flat_token_0\": {\"sbfhcgchqjjfgyqpesej_input_node_0_label\": \"0.0\", \"sbfhcgchqjjfgyqpesej_input_node_17_label\": \"0.275/5\", \"sbfhcgchqjjfgyqpesej_input_node_6_label\": \"2.507\", \"sbfhcgchqjjfgyqpesej_input_node_7_label\": \"0.855\", \"sbfhcgchqjjfgyqpesej_input_node_8_label\": \"1.367\", \"sbfhcgchqjjfgyqpesej_input_node_9_label\": \"1.511\", \"sbfhcgchqjjfgyqpesej_input_node_10_label\": \"0.0\"}, \"sbfhcgchqjjfgyqpesej_output_flat_token_1\": {\"sbfhcgchqjjfgyqpesej_input_node_0_label\": \"0.0\", \"sbfhcgchqjjfgyqpesej_input_node_13_label\": \"0.109/2\", \"sbfhcgchqjjfgyqpesej_input_node_12_label\": \"0.259/3\", \"sbfhcgchqjjfgyqpesej_input_node_6_label\": \"-2.187\", \"sbfhcgchqjjfgyqpesej_input_node_7_label\": \"-0.619\", \"sbfhcgchqjjfgyqpesej_input_node_8_label\": \"-2.26\", \"sbfhcgchqjjfgyqpesej_input_node_9_label\": \"0.002\", \"sbfhcgchqjjfgyqpesej_input_node_10_label\": \"0.0\"}, \"sbfhcgchqjjfgyqpesej_output_flat_token_2\": {\"sbfhcgchqjjfgyqpesej_input_node_0_label\": \"0.0\", \"sbfhcgchqjjfgyqpesej_input_node_17_label\": \"-2.41/5\", \"sbfhcgchqjjfgyqpesej_input_node_6_label\": \"0.892\", \"sbfhcgchqjjfgyqpesej_input_node_7_label\": \"0.378\", \"sbfhcgchqjjfgyqpesej_input_node_8_label\": \"1.249\", \"sbfhcgchqjjfgyqpesej_input_node_9_label\": \"-1.418\", \"sbfhcgchqjjfgyqpesej_input_node_10_label\": \"0.0\"}}\n",
       " token_id_to_node_id_mapping_sbfhcgchqjjfgyqpesej = {\"sbfhcgchqjjfgyqpesej_output_flat_token_0\": {\"sbfhcgchqjjfgyqpesej_input_node_0_content\": \"sbfhcgchqjjfgyqpesej_input_node_0_content\", \"sbfhcgchqjjfgyqpesej_input_node_1_content\": \"sbfhcgchqjjfgyqpesej_input_node_17_content\", \"sbfhcgchqjjfgyqpesej_input_node_2_content\": \"sbfhcgchqjjfgyqpesej_input_node_17_content\", \"sbfhcgchqjjfgyqpesej_input_node_3_content\": \"sbfhcgchqjjfgyqpesej_input_node_17_content\", \"sbfhcgchqjjfgyqpesej_input_node_4_content\": \"sbfhcgchqjjfgyqpesej_input_node_17_content\", \"sbfhcgchqjjfgyqpesej_input_node_5_content\": \"sbfhcgchqjjfgyqpesej_input_node_17_content\", \"sbfhcgchqjjfgyqpesej_input_node_6_content\": \"sbfhcgchqjjfgyqpesej_input_node_6_content\", \"sbfhcgchqjjfgyqpesej_input_node_7_content\": \"sbfhcgchqjjfgyqpesej_input_node_7_content\", \"sbfhcgchqjjfgyqpesej_input_node_8_content\": \"sbfhcgchqjjfgyqpesej_input_node_8_content\", \"sbfhcgchqjjfgyqpesej_input_node_9_content\": \"sbfhcgchqjjfgyqpesej_input_node_9_content\", \"sbfhcgchqjjfgyqpesej_input_node_10_content\": \"sbfhcgchqjjfgyqpesej_input_node_10_content\"}, \"sbfhcgchqjjfgyqpesej_output_flat_token_1\": {\"sbfhcgchqjjfgyqpesej_input_node_0_content\": \"sbfhcgchqjjfgyqpesej_input_node_0_content\", \"sbfhcgchqjjfgyqpesej_input_node_1_content\": \"sbfhcgchqjjfgyqpesej_input_node_13_content\", \"sbfhcgchqjjfgyqpesej_input_node_2_content\": \"sbfhcgchqjjfgyqpesej_input_node_13_content\", \"sbfhcgchqjjfgyqpesej_input_node_3_content\": \"sbfhcgchqjjfgyqpesej_input_node_12_content\", \"sbfhcgchqjjfgyqpesej_input_node_4_content\": \"sbfhcgchqjjfgyqpesej_input_node_12_content\", \"sbfhcgchqjjfgyqpesej_input_node_5_content\": \"sbfhcgchqjjfgyqpesej_input_node_12_content\", \"sbfhcgchqjjfgyqpesej_input_node_6_content\": \"sbfhcgchqjjfgyqpesej_input_node_6_content\", \"sbfhcgchqjjfgyqpesej_input_node_7_content\": \"sbfhcgchqjjfgyqpesej_input_node_7_content\", \"sbfhcgchqjjfgyqpesej_input_node_8_content\": \"sbfhcgchqjjfgyqpesej_input_node_8_content\", \"sbfhcgchqjjfgyqpesej_input_node_9_content\": \"sbfhcgchqjjfgyqpesej_input_node_9_content\", \"sbfhcgchqjjfgyqpesej_input_node_10_content\": \"sbfhcgchqjjfgyqpesej_input_node_10_content\"}, \"sbfhcgchqjjfgyqpesej_output_flat_token_2\": {\"sbfhcgchqjjfgyqpesej_input_node_0_content\": \"sbfhcgchqjjfgyqpesej_input_node_0_content\", \"sbfhcgchqjjfgyqpesej_input_node_1_content\": \"sbfhcgchqjjfgyqpesej_input_node_17_content\", \"sbfhcgchqjjfgyqpesej_input_node_2_content\": \"sbfhcgchqjjfgyqpesej_input_node_17_content\", \"sbfhcgchqjjfgyqpesej_input_node_3_content\": \"sbfhcgchqjjfgyqpesej_input_node_17_content\", \"sbfhcgchqjjfgyqpesej_input_node_4_content\": \"sbfhcgchqjjfgyqpesej_input_node_17_content\", \"sbfhcgchqjjfgyqpesej_input_node_5_content\": \"sbfhcgchqjjfgyqpesej_input_node_17_content\", \"sbfhcgchqjjfgyqpesej_input_node_6_content\": \"sbfhcgchqjjfgyqpesej_input_node_6_content\", \"sbfhcgchqjjfgyqpesej_input_node_7_content\": \"sbfhcgchqjjfgyqpesej_input_node_7_content\", \"sbfhcgchqjjfgyqpesej_input_node_8_content\": \"sbfhcgchqjjfgyqpesej_input_node_8_content\", \"sbfhcgchqjjfgyqpesej_input_node_9_content\": \"sbfhcgchqjjfgyqpesej_input_node_9_content\", \"sbfhcgchqjjfgyqpesej_input_node_10_content\": \"sbfhcgchqjjfgyqpesej_input_node_10_content\"}}\n",
       "</script> \n",
       " \n",
       "          </div>\n",
       "      </div>\n",
       "    </div>\n",
       "    </html>\n",
       "    "
      ],
      "text/plain": [
       "<IPython.core.display.HTML object>"
      ]
     },
     "metadata": {},
     "output_type": "display_data"
    }
   ],
   "source": [
    "explainer = shap.Explainer(clf)\n",
    "shap_values = explainer(headline_list)\n",
    "\n",
    "shap.plots.text(shap_values[:,:,:]) # shap plots for all headlines"
   ]
  }
 ],
 "metadata": {
  "kernelspec": {
   "display_name": "Python 3.8.8 ('base')",
   "language": "python",
   "name": "python3"
  },
  "language_info": {
   "codemirror_mode": {
    "name": "ipython",
    "version": 3
   },
   "file_extension": ".py",
   "mimetype": "text/x-python",
   "name": "python",
   "nbconvert_exporter": "python",
   "pygments_lexer": "ipython3",
   "version": "3.8.8"
  },
  "vscode": {
   "interpreter": {
    "hash": "a077222d77dfe082b8f1dd562ad70e458ac2ab76993a0b248ab0476e32e9e8dd"
   }
  }
 },
 "nbformat": 4,
 "nbformat_minor": 2
}
